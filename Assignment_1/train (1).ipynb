{
  "cells": [
    {
      "cell_type": "code",
      "execution_count": 124,
      "id": "2bc3ec6c",
      "metadata": {
        "id": "2bc3ec6c"
      },
      "outputs": [],
      "source": [
        "import pandas as pd\n",
        "import sklearn\n",
        "import numpy as np\n",
        "import matplotlib.pyplot as plt\n",
        "from sklearn.model_selection import GridSearchCV\n",
        "from sklearn.feature_extraction.text import TfidfVectorizer\n",
        "from sklearn.linear_model import LogisticRegression\n",
        "from sklearn.ensemble import AdaBoostClassifier\n",
        "from sklearn.discriminant_analysis import QuadraticDiscriminantAnalysis\n",
        "from sklearn.metrics import accuracy_score, classification_report, confusion_matrix, ConfusionMatrixDisplay\n",
        "from sklearn.neural_network import MLPClassifier\n",
        "from sklearn.naive_bayes import GaussianNB, MultinomialNB, BernoulliNB"
      ]
    },
    {
      "cell_type": "code",
      "execution_count": null,
      "id": "f6785d16",
      "metadata": {
        "id": "f6785d16"
      },
      "outputs": [],
      "source": [
        "train=pd.read_csv(\"train.csv\")\n",
        "val=pd.read_csv(\"validation.csv\")\n",
        "test=pd.read_csv(\"test.csv\")"
      ]
    },
    {
      "cell_type": "code",
      "execution_count": null,
      "id": "4d81ab3d",
      "metadata": {
        "id": "4d81ab3d"
      },
      "outputs": [],
      "source": [
        "y_train,X_train=train[\"Label\"],train[\"Text\"]\n",
        "y_val,X_val=val[\"Label\"],val[\"Text\"]\n",
        "y_test,X_test=test[\"Label\"],test[\"Text\"]"
      ]
    },
    {
      "cell_type": "code",
      "execution_count": null,
      "id": "78c72d94",
      "metadata": {
        "id": "78c72d94"
      },
      "outputs": [],
      "source": [
        "# transform the text data to feature vectors that can be used as input for the models\n",
        "feature_extraction = TfidfVectorizer(min_df = 1, stop_words='english', lowercase='True')\n",
        "X_train_features = feature_extraction.fit_transform(X_train)\n",
        "X_test_features = feature_extraction.transform(X_test)\n",
        "X_val_features = feature_extraction.transform(X_val)\n",
        "\n",
        "y_train = y_train.astype('int')\n",
        "y_test = y_test.astype('int')\n",
        "y_val = y_val.astype('int')"
      ]
    },
    {
      "cell_type": "markdown",
      "source": [
        "#Naive Bayes \n",
        "\n",
        "\n",
        "**Bernoulli NB**"
      ],
      "metadata": {
        "id": "iSAke1gt9jwk"
      },
      "id": "iSAke1gt9jwk"
    },
    {
      "cell_type": "code",
      "source": [
        "modelbnb = BernoulliNB()\n",
        "modelbnb.fit(X_train_features.toarray() , y_train)"
      ],
      "metadata": {
        "colab": {
          "base_uri": "https://localhost:8080/"
        },
        "id": "iqU5xjes9S8y",
        "outputId": "17cae3d8-5400-4580-8e4e-b65f072daf4e"
      },
      "id": "iqU5xjes9S8y",
      "execution_count": null,
      "outputs": [
        {
          "output_type": "execute_result",
          "data": {
            "text/plain": [
              "BernoulliNB()"
            ]
          },
          "metadata": {},
          "execution_count": 85
        }
      ]
    },
    {
      "cell_type": "code",
      "source": [
        "# prediction on training data\n",
        "\n",
        "prediction_on_training_data = modelbnb.predict(X_train_features.toarray())\n",
        "accuracy_on_training_data = accuracy_score(y_train, prediction_on_training_data)"
      ],
      "metadata": {
        "id": "8exsh7_N9S_N"
      },
      "id": "8exsh7_N9S_N",
      "execution_count": null,
      "outputs": []
    },
    {
      "cell_type": "code",
      "source": [
        "print('Accuracy on training data : ', round(accuracy_on_training_data * 100,3), \"%\")"
      ],
      "metadata": {
        "colab": {
          "base_uri": "https://localhost:8080/"
        },
        "id": "HqnP_Sc89TB1",
        "outputId": "93212b35-a8f8-4eee-f522-2c14444231d9"
      },
      "id": "HqnP_Sc89TB1",
      "execution_count": null,
      "outputs": [
        {
          "output_type": "stream",
          "name": "stdout",
          "text": [
            "Accuracy on training data :  98.744 %\n"
          ]
        }
      ]
    },
    {
      "cell_type": "code",
      "source": [
        "# prediction on Validation data\n",
        "\n",
        "prediction_on_val_data = modelbnb.predict(X_val_features.toarray())\n",
        "accuracy_on_val_data = accuracy_score(y_val, prediction_on_val_data)"
      ],
      "metadata": {
        "id": "0UL_wJZKeaZM"
      },
      "id": "0UL_wJZKeaZM",
      "execution_count": null,
      "outputs": []
    },
    {
      "cell_type": "code",
      "source": [
        "print('Accuracy on Validation data : ', round(accuracy_on_val_data * 100,3), \"%\")"
      ],
      "metadata": {
        "colab": {
          "base_uri": "https://localhost:8080/"
        },
        "id": "9lqjGQU7eacv",
        "outputId": "649dba5a-8f3f-4199-dc2a-5b5e9570ee51"
      },
      "id": "9lqjGQU7eacv",
      "execution_count": null,
      "outputs": [
        {
          "output_type": "stream",
          "name": "stdout",
          "text": [
            "Accuracy on Validation data :  97.129 %\n"
          ]
        }
      ]
    },
    {
      "cell_type": "code",
      "source": [
        "# prediction on test data\n",
        "y_pred = modelbnb.predict(X_test_features.toarray())\n",
        "accuracy_on_test_data = round(accuracy_score(y_test, y_pred) * 100,3)"
      ],
      "metadata": {
        "id": "JSTlyM8W9TDu"
      },
      "id": "JSTlyM8W9TDu",
      "execution_count": null,
      "outputs": []
    },
    {
      "cell_type": "code",
      "source": [
        "print('Accuracy on test data : ', accuracy_on_test_data, \"%\")"
      ],
      "metadata": {
        "colab": {
          "base_uri": "https://localhost:8080/"
        },
        "id": "-I4hiN1D9TH8",
        "outputId": "64e15fe1-9737-4aa9-9f39-b54123a74c92"
      },
      "id": "-I4hiN1D9TH8",
      "execution_count": null,
      "outputs": [
        {
          "output_type": "stream",
          "name": "stdout",
          "text": [
            "Accuracy on test data :  97.608 %\n"
          ]
        }
      ]
    },
    {
      "cell_type": "code",
      "source": [
        "print(classification_report(y_test,y_pred))"
      ],
      "metadata": {
        "colab": {
          "base_uri": "https://localhost:8080/"
        },
        "id": "Ayv02CmK9e4g",
        "outputId": "043a1a79-7324-435c-c3d0-345585a2c8e2"
      },
      "id": "Ayv02CmK9e4g",
      "execution_count": null,
      "outputs": [
        {
          "output_type": "stream",
          "name": "stdout",
          "text": [
            "              precision    recall  f1-score   support\n",
            "\n",
            "           0       0.97      1.00      0.99       726\n",
            "           1       1.00      0.82      0.90       110\n",
            "\n",
            "    accuracy                           0.98       836\n",
            "   macro avg       0.99      0.91      0.94       836\n",
            "weighted avg       0.98      0.98      0.98       836\n",
            "\n"
          ]
        }
      ]
    },
    {
      "cell_type": "code",
      "source": [
        "cm = confusion_matrix(y_test, y_pred, labels=modelbnb.classes_)\n",
        "disp = ConfusionMatrixDisplay(confusion_matrix=cm,display_labels=modelbnb.classes_)\n",
        "disp.plot()\n",
        "plt.show()"
      ],
      "metadata": {
        "colab": {
          "base_uri": "https://localhost:8080/",
          "height": 279
        },
        "id": "qbz46diJCbOb",
        "outputId": "9dba0f8f-d0a0-4d81-b1d8-2269e45a4f9e"
      },
      "id": "qbz46diJCbOb",
      "execution_count": null,
      "outputs": [
        {
          "output_type": "display_data",
          "data": {
            "text/plain": [
              "<Figure size 432x288 with 2 Axes>"
            ],
            "image/png": "[encoded data removed]"
          },
          "metadata": {
            "needs_background": "light"
          }
        }
      ]
    },
    {
      "cell_type": "markdown",
      "source": [
        "**Gaussian NB**\n"
      ],
      "metadata": {
        "id": "s5dXEG4a-a1F"
      },
      "id": "s5dXEG4a-a1F"
    },
    {
      "cell_type": "code",
      "source": [
        "modelgnb = GaussianNB()\n",
        "modelgnb.fit(X_train_features.toarray() , y_train)"
      ],
      "metadata": {
        "colab": {
          "base_uri": "https://localhost:8080/"
        },
        "id": "JYF9vS3G-gw_",
        "outputId": "756aaa64-5a2d-4f5a-b20f-be33bd3832cc"
      },
      "id": "JYF9vS3G-gw_",
      "execution_count": null,
      "outputs": [
        {
          "output_type": "execute_result",
          "data": {
            "text/plain": [
              "GaussianNB()"
            ]
          },
          "metadata": {},
          "execution_count": 94
        }
      ]
    },
    {
      "cell_type": "code",
      "source": [
        "prediction_on_training_data = modelgnb.predict(X_train_features.toarray())\n",
        "accuracy_on_training_data = accuracy_score(y_train, prediction_on_training_data)"
      ],
      "metadata": {
        "id": "PwLsKUGR-g1D"
      },
      "id": "PwLsKUGR-g1D",
      "execution_count": null,
      "outputs": []
    },
    {
      "cell_type": "code",
      "source": [
        "print('Accuracy on training data : ', round(accuracy_on_training_data * 100,3), \"%\")"
      ],
      "metadata": {
        "colab": {
          "base_uri": "https://localhost:8080/"
        },
        "id": "A3cRxAby-g3x",
        "outputId": "578e1e9f-78ff-4d07-f2b7-5f174ccd0c29"
      },
      "id": "A3cRxAby-g3x",
      "execution_count": null,
      "outputs": [
        {
          "output_type": "stream",
          "name": "stdout",
          "text": [
            "Accuracy on training data :  94.231 %\n"
          ]
        }
      ]
    },
    {
      "cell_type": "code",
      "source": [
        "# from sklearn.model_selection import RepeatedStratifiedKFold\n",
        "# cv_method = RepeatedStratifiedKFold(n_splits=50,  n_repeats=3, random_state=999)\n",
        "\n",
        "# from sklearn.preprocessing import PowerTransformer\n",
        "# params_NB = {'var_smoothing': np.logspace(0,-9, num=100)}\n",
        "# gs_NB = GridSearchCV(estimator=modelgnb, param_grid=params_NB, cv=cv_method,verbose=1,scoring='accuracy')\n"
      ],
      "metadata": {
        "id": "j5Zn5oA-5MHe"
      },
      "id": "j5Zn5oA-5MHe",
      "execution_count": null,
      "outputs": []
    },
    {
      "cell_type": "code",
      "source": [
        "# prediction on Validation data\n",
        "\n",
        "prediction_on_val_data = modelgnb.predict(X_val_features.toarray())\n",
        "# pred_on_val_data = gs_NB.fit(X_val_features.toarray(), y_val)\n",
        "accuracy_on_val_data = accuracy_score(y_val, prediction_on_val_data)"
      ],
      "metadata": {
        "id": "UuW-liS3gLAm"
      },
      "id": "UuW-liS3gLAm",
      "execution_count": 128,
      "outputs": []
    },
    {
      "cell_type": "code",
      "source": [
        "print('Accuracy on Validation data : ', round(accuracy_on_val_data * 100,3), \"%\")"
      ],
      "metadata": {
        "colab": {
          "base_uri": "https://localhost:8080/"
        },
        "id": "jR3U0JxigLET",
        "outputId": "8e39e319-a529-4bc1-e37b-dce890408c02"
      },
      "id": "jR3U0JxigLET",
      "execution_count": 129,
      "outputs": [
        {
          "output_type": "stream",
          "name": "stdout",
          "text": [
            "Accuracy on Validation data :  89.234 %\n"
          ]
        }
      ]
    },
    {
      "cell_type": "code",
      "source": [
        "# prediction on test data\n",
        "y_pred = modelgnb.predict(X_test_features.toarray())\n",
        "accuracy_on_test_data = round(accuracy_score(y_test, y_pred) * 100,3)"
      ],
      "metadata": {
        "id": "8Vx0xmJx-g60"
      },
      "id": "8Vx0xmJx-g60",
      "execution_count": null,
      "outputs": []
    },
    {
      "cell_type": "code",
      "source": [
        "print('Accuracy on test data : ', accuracy_on_test_data, \"%\")"
      ],
      "metadata": {
        "colab": {
          "base_uri": "https://localhost:8080/"
        },
        "id": "8cqmaFym-g9z",
        "outputId": "978b8c55-9826-4e12-f061-cd8ee4e2bd6c"
      },
      "id": "8cqmaFym-g9z",
      "execution_count": null,
      "outputs": [
        {
          "output_type": "stream",
          "name": "stdout",
          "text": [
            "Accuracy on test data :  88.995 %\n"
          ]
        }
      ]
    },
    {
      "cell_type": "code",
      "source": [
        "print(classification_report(y_test,y_pred))"
      ],
      "metadata": {
        "colab": {
          "base_uri": "https://localhost:8080/"
        },
        "id": "8fDhHoCz-tjo",
        "outputId": "6bdcd93c-4013-4d13-ea74-b49f08d57ddc"
      },
      "id": "8fDhHoCz-tjo",
      "execution_count": null,
      "outputs": [
        {
          "output_type": "stream",
          "name": "stdout",
          "text": [
            "              precision    recall  f1-score   support\n",
            "\n",
            "           0       0.98      0.89      0.93       726\n",
            "           1       0.55      0.89      0.68       110\n",
            "\n",
            "    accuracy                           0.89       836\n",
            "   macro avg       0.77      0.89      0.81       836\n",
            "weighted avg       0.93      0.89      0.90       836\n",
            "\n"
          ]
        }
      ]
    },
    {
      "cell_type": "code",
      "source": [
        "cm = confusion_matrix(y_test, y_pred, labels=modelgnb.classes_)\n",
        "disp = ConfusionMatrixDisplay(confusion_matrix=cm,display_labels=modelgnb.classes_)\n",
        "disp.plot()\n",
        "plt.show()"
      ],
      "metadata": {
        "colab": {
          "base_uri": "https://localhost:8080/",
          "height": 279
        },
        "id": "q92gj5eRBdYq",
        "outputId": "82aea73c-f124-413a-dad7-a93a14f1d2f0"
      },
      "id": "q92gj5eRBdYq",
      "execution_count": null,
      "outputs": [
        {
          "output_type": "display_data",
          "data": {
            "text/plain": [
              "<Figure size 432x288 with 2 Axes>"
            ],
            "image/png": "[encoded data removed]"
          },
          "metadata": {
            "needs_background": "light"
          }
        }
      ]
    },
    {
      "cell_type": "markdown",
      "id": "fc6938db",
      "metadata": {
        "id": "fc6938db"
      },
      "source": [
        "# Logistic Regression"
      ]
    },
    {
      "cell_type": "code",
      "execution_count": null,
      "id": "1c605151",
      "metadata": {
        "id": "1c605151"
      },
      "outputs": [],
      "source": [
        "modellr = LogisticRegression()"
      ]
    },
    {
      "cell_type": "code",
      "execution_count": null,
      "id": "3dc4b3f5",
      "metadata": {
        "id": "3dc4b3f5",
        "outputId": "cf28e45c-1ef7-459c-937e-48edf9205dff",
        "colab": {
          "base_uri": "https://localhost:8080/"
        }
      },
      "outputs": [
        {
          "output_type": "execute_result",
          "data": {
            "text/plain": [
              "LogisticRegression()"
            ]
          },
          "metadata": {},
          "execution_count": 104
        }
      ],
      "source": [
        "# training the Logistic Regression model with the training data\n",
        "modellr.fit(X_train_features, y_train)"
      ]
    },
    {
      "cell_type": "code",
      "execution_count": null,
      "id": "36c012a9",
      "metadata": {
        "id": "36c012a9"
      },
      "outputs": [],
      "source": [
        "# prediction on training data\n",
        "prediction_on_training_data = modellr.predict(X_train_features)\n",
        "accuracy_on_training_data = round(accuracy_score(y_train, prediction_on_training_data) * 100,3)"
      ]
    },
    {
      "cell_type": "code",
      "execution_count": null,
      "id": "a0bc8133",
      "metadata": {
        "id": "a0bc8133",
        "outputId": "a91a1f36-215b-4271-a037-ab8ea7a799bb",
        "colab": {
          "base_uri": "https://localhost:8080/"
        }
      },
      "outputs": [
        {
          "output_type": "stream",
          "name": "stdout",
          "text": [
            "Accuracy on training data :  96.795 %\n"
          ]
        }
      ],
      "source": [
        "print('Accuracy on training data : ', accuracy_on_training_data, \"%\")"
      ]
    },
    {
      "cell_type": "code",
      "source": [
        "# prediction on Validation data\n",
        "\n",
        "prediction_on_val_data = modellr.predict(X_val_features.toarray())\n",
        "accuracy_on_val_data = accuracy_score(y_val, prediction_on_val_data)"
      ],
      "metadata": {
        "id": "4Dl_2lNqggmS"
      },
      "id": "4Dl_2lNqggmS",
      "execution_count": null,
      "outputs": []
    },
    {
      "cell_type": "code",
      "source": [
        "print('Accuracy on Validation data : ', round(accuracy_on_val_data * 100,3), \"%\")"
      ],
      "metadata": {
        "colab": {
          "base_uri": "https://localhost:8080/"
        },
        "id": "Lr5yZja6ggp1",
        "outputId": "394ec514-2d61-4ffa-e829-771f7a1c663e"
      },
      "id": "Lr5yZja6ggp1",
      "execution_count": null,
      "outputs": [
        {
          "output_type": "stream",
          "name": "stdout",
          "text": [
            "Accuracy on Validation data :  96.053 %\n"
          ]
        }
      ]
    },
    {
      "cell_type": "code",
      "execution_count": null,
      "id": "572f5f30",
      "metadata": {
        "id": "572f5f30"
      },
      "outputs": [],
      "source": [
        "# prediction on test data\n",
        "y_pred = modellr.predict(X_test_features)\n",
        "accuracy_on_test_data = round(accuracy_score(y_test, y_pred) * 100,3)"
      ]
    },
    {
      "cell_type": "code",
      "execution_count": null,
      "id": "5aea1525",
      "metadata": {
        "id": "5aea1525",
        "outputId": "37e7c17d-e717-4cce-d6fa-43793c40d47d",
        "colab": {
          "base_uri": "https://localhost:8080/"
        }
      },
      "outputs": [
        {
          "output_type": "stream",
          "name": "stdout",
          "text": [
            "Accuracy on test data :  95.455 %\n"
          ]
        }
      ],
      "source": [
        "print('Accuracy on test data : ', accuracy_on_test_data, \"%\")"
      ]
    },
    {
      "cell_type": "code",
      "execution_count": null,
      "id": "5f994b81",
      "metadata": {
        "id": "5f994b81",
        "outputId": "4017e5b8-7ab5-4e8b-fb0b-c7275d6e6298",
        "colab": {
          "base_uri": "https://localhost:8080/"
        }
      },
      "outputs": [
        {
          "output_type": "stream",
          "name": "stdout",
          "text": [
            "              precision    recall  f1-score   support\n",
            "\n",
            "           0       0.95      1.00      0.97       726\n",
            "           1       0.97      0.67      0.80       110\n",
            "\n",
            "    accuracy                           0.95       836\n",
            "   macro avg       0.96      0.83      0.89       836\n",
            "weighted avg       0.96      0.95      0.95       836\n",
            "\n"
          ]
        }
      ],
      "source": [
        "print(classification_report(y_test,y_pred))"
      ]
    },
    {
      "cell_type": "code",
      "source": [
        "cm = confusion_matrix(y_test, y_pred, labels=modellr.classes_)\n",
        "disp = ConfusionMatrixDisplay(confusion_matrix=cm,display_labels=modellr.classes_)\n",
        "disp.plot()\n",
        "plt.show()"
      ],
      "metadata": {
        "colab": {
          "base_uri": "https://localhost:8080/",
          "height": 279
        },
        "id": "u0VjHYcVCQSC",
        "outputId": "e79b198c-6003-415a-bd3d-4d754fcb2d71"
      },
      "id": "u0VjHYcVCQSC",
      "execution_count": null,
      "outputs": [
        {
          "output_type": "display_data",
          "data": {
            "text/plain": [
              "<Figure size 432x288 with 2 Axes>"
            ],
            "image/png": "[encoded data removed]"
          },
          "metadata": {
            "needs_background": "light"
          }
        }
      ]
    },
    {
      "cell_type": "markdown",
      "id": "f0b71acd",
      "metadata": {
        "id": "f0b71acd"
      },
      "source": [
        "# MLP Classifier"
      ]
    },
    {
      "cell_type": "code",
      "execution_count": null,
      "id": "a849cfa0",
      "metadata": {
        "colab": {
          "base_uri": "https://localhost:8080/"
        },
        "id": "a849cfa0",
        "outputId": "2a6b95a4-dc03-4f9e-b705-2edb43802f7f"
      },
      "outputs": [
        {
          "output_type": "execute_result",
          "data": {
            "text/plain": [
              "MLPClassifier()"
            ]
          },
          "metadata": {},
          "execution_count": 113
        }
      ],
      "source": [
        "modelmlp = MLPClassifier()\n",
        "modelmlp.fit(X_train_features, y_train)"
      ]
    },
    {
      "cell_type": "code",
      "execution_count": null,
      "id": "b18a9ee9",
      "metadata": {
        "id": "b18a9ee9"
      },
      "outputs": [],
      "source": [
        "# prediction on training data\n",
        "prediction_on_training_data = modelmlp.predict(X_train_features)\n",
        "accuracy_on_training_data = round(accuracy_score(y_train, prediction_on_training_data) * 100, 3)"
      ]
    },
    {
      "cell_type": "code",
      "execution_count": null,
      "id": "48c8ca7e",
      "metadata": {
        "colab": {
          "base_uri": "https://localhost:8080/"
        },
        "id": "48c8ca7e",
        "outputId": "cc797f4a-6cd3-48ae-e45c-665a70c7948a"
      },
      "outputs": [
        {
          "output_type": "stream",
          "name": "stdout",
          "text": [
            "Accuracy on training data :  100.0 %\n"
          ]
        }
      ],
      "source": [
        "print('Accuracy on training data : ', accuracy_on_training_data, \"%\")"
      ]
    },
    {
      "cell_type": "code",
      "source": [
        "# prediction on Validation data\n",
        "\n",
        "prediction_on_val_data = modelmlp.predict(X_val_features.toarray())\n",
        "accuracy_on_val_data = accuracy_score(y_val, prediction_on_val_data)"
      ],
      "metadata": {
        "id": "X-03bfPWgpg3"
      },
      "id": "X-03bfPWgpg3",
      "execution_count": null,
      "outputs": []
    },
    {
      "cell_type": "code",
      "source": [
        "print('Accuracy on Validation data : ', round(accuracy_on_val_data * 100,3), \"%\")"
      ],
      "metadata": {
        "colab": {
          "base_uri": "https://localhost:8080/"
        },
        "id": "KAd6Ah7ZgpkU",
        "outputId": "8bff472d-d225-4a04-b185-21d04fd5483c"
      },
      "id": "KAd6Ah7ZgpkU",
      "execution_count": null,
      "outputs": [
        {
          "output_type": "stream",
          "name": "stdout",
          "text": [
            "Accuracy on Validation data :  99.163 %\n"
          ]
        }
      ]
    },
    {
      "cell_type": "code",
      "execution_count": null,
      "id": "4901e6de",
      "metadata": {
        "id": "4901e6de"
      },
      "outputs": [],
      "source": [
        "# prediction on test data\n",
        "y_pred = modelmlp.predict(X_test_features)\n",
        "accuracy_on_test_data = round(accuracy_score(y_test, y_pred) * 100,3)"
      ]
    },
    {
      "cell_type": "code",
      "execution_count": null,
      "id": "adcc77a6",
      "metadata": {
        "colab": {
          "base_uri": "https://localhost:8080/"
        },
        "id": "adcc77a6",
        "outputId": "94353e75-9237-4ab3-be68-f5e87dd232a1"
      },
      "outputs": [
        {
          "output_type": "stream",
          "name": "stdout",
          "text": [
            "Accuracy on test data :  99.043 %\n"
          ]
        }
      ],
      "source": [
        "print('Accuracy on test data : ', accuracy_on_test_data, \"%\")"
      ]
    },
    {
      "cell_type": "code",
      "execution_count": null,
      "id": "cbab85e5",
      "metadata": {
        "colab": {
          "base_uri": "https://localhost:8080/"
        },
        "id": "cbab85e5",
        "outputId": "568b49b2-541e-4b2e-e6af-6236d3e4a2d8"
      },
      "outputs": [
        {
          "output_type": "stream",
          "name": "stdout",
          "text": [
            "              precision    recall  f1-score   support\n",
            "\n",
            "           0       0.99      1.00      0.99       726\n",
            "           1       0.99      0.94      0.96       110\n",
            "\n",
            "    accuracy                           0.99       836\n",
            "   macro avg       0.99      0.97      0.98       836\n",
            "weighted avg       0.99      0.99      0.99       836\n",
            "\n"
          ]
        }
      ],
      "source": [
        "print(classification_report(y_test,y_pred))"
      ]
    },
    {
      "cell_type": "code",
      "source": [
        "cm = confusion_matrix(y_test, y_pred, labels=modelmlp.classes_)\n",
        "disp = ConfusionMatrixDisplay(confusion_matrix=cm,display_labels=modelmlp.classes_)\n",
        "disp.plot()\n",
        "plt.show()"
      ],
      "metadata": {
        "colab": {
          "base_uri": "https://localhost:8080/",
          "height": 279
        },
        "id": "EXo0SexKCgId",
        "outputId": "14688d6b-bfa7-4c6d-84f6-1f42cc1b8805"
      },
      "id": "EXo0SexKCgId",
      "execution_count": null,
      "outputs": [
        {
          "output_type": "display_data",
          "data": {
            "text/plain": [
              "<Figure size 432x288 with 2 Axes>"
            ],
            "image/png": "[encoded data removed]"
          },
          "metadata": {
            "needs_background": "light"
          }
        }
      ]
    },
    {
      "cell_type": "markdown",
      "source": [
        "**In terms of accuracy, F1 score and precision values, the Multi Layer perceptron is the best performing one, since for this specific task, we have to maximise precision.**\n",
        "\n",
        "\n",
        "**Bernoulli Naive Bayes is also performing well for this model.**"
      ],
      "metadata": {
        "id": "TbpJqcLKFHao"
      },
      "id": "TbpJqcLKFHao"
    }
  ],
  "metadata": {
    "kernelspec": {
      "display_name": "Python 3",
      "language": "python",
      "name": "python3"
    },
    "language_info": {
      "codemirror_mode": {
        "name": "ipython",
        "version": 3
      },
      "file_extension": ".py",
      "mimetype": "text/x-python",
      "name": "python",
      "nbconvert_exporter": "python",
      "pygments_lexer": "ipython3",
      "version": "3.8.8"
    },
    "colab": {
      "provenance": []
    }
  },
  "nbformat": 4,
  "nbformat_minor": 5
}