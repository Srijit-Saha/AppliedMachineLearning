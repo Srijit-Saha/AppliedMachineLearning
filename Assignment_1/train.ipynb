{
  "cells": [
    {
      "cell_type": "code",
      "execution_count": 93,
      "id": "2bc3ec6c",
      "metadata": {
        "id": "2bc3ec6c"
      },
      "outputs": [],
      "source": [
        "import pandas as pd\n",
        "import sklearn\n",
        "import numpy as np\n",
        "import matplotlib.pyplot as plt\n",
        "from sklearn.feature_extraction.text import TfidfVectorizer\n",
        "from sklearn.linear_model import LogisticRegression\n",
        "from sklearn.ensemble import AdaBoostClassifier\n",
        "from sklearn.discriminant_analysis import QuadraticDiscriminantAnalysis\n",
        "from sklearn.metrics import accuracy_score, classification_report, confusion_matrix, ConfusionMatrixDisplay\n",
        "from sklearn.neural_network import MLPClassifier\n",
        "from sklearn.naive_bayes import GaussianNB, MultinomialNB, BernoulliNB"
      ]
    },
    {
      "cell_type": "code",
      "execution_count": 94,
      "id": "f6785d16",
      "metadata": {
        "id": "f6785d16"
      },
      "outputs": [],
      "source": [
        "train=pd.read_csv(\"train.csv\")\n",
        "val=pd.read_csv(\"validation.csv\")\n",
        "test=pd.read_csv(\"test.csv\")"
      ]
    },
    {
      "cell_type": "code",
      "execution_count": 95,
      "id": "4d81ab3d",
      "metadata": {
        "id": "4d81ab3d"
      },
      "outputs": [],
      "source": [
        "y_train,X_train=train[\"Label\"],train[\"Text\"]\n",
        "y_val,X_val=val[\"Label\"],val[\"Text\"]\n",
        "y_test,X_test=val[\"Label\"],val[\"Text\"]"
      ]
    },
    {
      "cell_type": "code",
      "execution_count": 96,
      "id": "78c72d94",
      "metadata": {
        "id": "78c72d94"
      },
      "outputs": [],
      "source": [
        "# transform the text data to feature vectors that can be used as input for the models\n",
        "feature_extraction = TfidfVectorizer(min_df = 1, stop_words='english', lowercase='True')\n",
        "X_train_features = feature_extraction.fit_transform(X_train)\n",
        "X_test_features = feature_extraction.transform(X_test)\n",
        "\n",
        "y_train = y_train.astype('int')\n",
        "y_test = y_test.astype('int')"
      ]
    },
    {
      "cell_type": "markdown",
      "source": [
        "#Naive Bayes \n",
        "\n",
        "\n",
        "**Bernoulli NB**"
      ],
      "metadata": {
        "id": "iSAke1gt9jwk"
      },
      "id": "iSAke1gt9jwk"
    },
    {
      "cell_type": "code",
      "source": [
        "modelbnb = BernoulliNB()\n",
        "modelbnb.fit(X_train_features.toarray() , y_train)"
      ],
      "metadata": {
        "colab": {
          "base_uri": "https://localhost:8080/"
        },
        "id": "iqU5xjes9S8y",
        "outputId": "70cabfae-43f1-412e-e510-545958ae9fc5"
      },
      "id": "iqU5xjes9S8y",
      "execution_count": 97,
      "outputs": [
        {
          "output_type": "execute_result",
          "data": {
            "text/plain": [
              "BernoulliNB()"
            ]
          },
          "metadata": {},
          "execution_count": 97
        }
      ]
    },
    {
      "cell_type": "code",
      "source": [
        "# prediction on training data\n",
        "\n",
        "prediction_on_training_data = modelbnb.predict(X_train_features.toarray())\n",
        "accuracy_on_training_data = accuracy_score(y_train, prediction_on_training_data)"
      ],
      "metadata": {
        "id": "8exsh7_N9S_N"
      },
      "id": "8exsh7_N9S_N",
      "execution_count": 98,
      "outputs": []
    },
    {
      "cell_type": "code",
      "source": [
        "print('Accuracy on training data : ', round(accuracy_on_training_data * 100,3), \"%\")"
      ],
      "metadata": {
        "colab": {
          "base_uri": "https://localhost:8080/"
        },
        "id": "HqnP_Sc89TB1",
        "outputId": "e842d967-84e9-4409-e04f-53b3fcfb1dd3"
      },
      "id": "HqnP_Sc89TB1",
      "execution_count": 99,
      "outputs": [
        {
          "output_type": "stream",
          "name": "stdout",
          "text": [
            "Accuracy on training data :  98.744 %\n"
          ]
        }
      ]
    },
    {
      "cell_type": "code",
      "source": [
        "# prediction on test data\n",
        "y_pred = modelbnb.predict(X_test_features.toarray())\n",
        "accuracy_on_test_data = round(accuracy_score(y_test, y_pred) * 100,3)"
      ],
      "metadata": {
        "id": "JSTlyM8W9TDu"
      },
      "id": "JSTlyM8W9TDu",
      "execution_count": 100,
      "outputs": []
    },
    {
      "cell_type": "code",
      "source": [
        "print('Accuracy on test data : ', accuracy_on_test_data, \"%\")"
      ],
      "metadata": {
        "colab": {
          "base_uri": "https://localhost:8080/"
        },
        "id": "-I4hiN1D9TH8",
        "outputId": "28c41d8f-2386-4bf6-f064-6e820a0eb1b6"
      },
      "id": "-I4hiN1D9TH8",
      "execution_count": 101,
      "outputs": [
        {
          "output_type": "stream",
          "name": "stdout",
          "text": [
            "Accuracy on test data :  97.129 %\n"
          ]
        }
      ]
    },
    {
      "cell_type": "code",
      "source": [
        "print(classification_report(y_test,y_pred))"
      ],
      "metadata": {
        "colab": {
          "base_uri": "https://localhost:8080/"
        },
        "id": "Ayv02CmK9e4g",
        "outputId": "3ce4d339-8d2e-4fe5-f218-3ab92efee5a2"
      },
      "id": "Ayv02CmK9e4g",
      "execution_count": 102,
      "outputs": [
        {
          "output_type": "stream",
          "name": "stdout",
          "text": [
            "              precision    recall  f1-score   support\n",
            "\n",
            "           0       0.97      1.00      0.98       728\n",
            "           1       1.00      0.78      0.88       108\n",
            "\n",
            "    accuracy                           0.97       836\n",
            "   macro avg       0.98      0.89      0.93       836\n",
            "weighted avg       0.97      0.97      0.97       836\n",
            "\n"
          ]
        }
      ]
    },
    {
      "cell_type": "code",
      "source": [
        "cm = confusion_matrix(y_test, y_pred, labels=modelbnb.classes_)\n",
        "disp = ConfusionMatrixDisplay(confusion_matrix=cm,display_labels=modelbnb.classes_)\n",
        "disp.plot()\n",
        "plt.show()"
      ],
      "metadata": {
        "colab": {
          "base_uri": "https://localhost:8080/",
          "height": 279
        },
        "id": "qbz46diJCbOb",
        "outputId": "598cebfa-9ced-4214-9c7d-a4c5b7256c77"
      },
      "id": "qbz46diJCbOb",
      "execution_count": 103,
      "outputs": [
        {
          "output_type": "display_data",
          "data": {
            "text/plain": [
              "<Figure size 432x288 with 2 Axes>"
            ],
            "image/png": "[encoded data removed]"
          },
          "metadata": {
            "needs_background": "light"
          }
        }
      ]
    },
    {
      "cell_type": "markdown",
      "source": [
        "**Gaussian NB**\n"
      ],
      "metadata": {
        "id": "s5dXEG4a-a1F"
      },
      "id": "s5dXEG4a-a1F"
    },
    {
      "cell_type": "code",
      "source": [
        "modelgnb = GaussianNB()\n",
        "modelgnb.fit(X_train_features.toarray() , y_train)"
      ],
      "metadata": {
        "colab": {
          "base_uri": "https://localhost:8080/"
        },
        "id": "JYF9vS3G-gw_",
        "outputId": "634a3cc3-56ae-463a-af07-849443dbf8c3"
      },
      "id": "JYF9vS3G-gw_",
      "execution_count": 105,
      "outputs": [
        {
          "output_type": "execute_result",
          "data": {
            "text/plain": [
              "GaussianNB()"
            ]
          },
          "metadata": {},
          "execution_count": 105
        }
      ]
    },
    {
      "cell_type": "code",
      "source": [
        "prediction_on_training_data = modelgnb.predict(X_train_features.toarray())\n",
        "accuracy_on_training_data = accuracy_score(y_train, prediction_on_training_data)"
      ],
      "metadata": {
        "id": "PwLsKUGR-g1D"
      },
      "id": "PwLsKUGR-g1D",
      "execution_count": 107,
      "outputs": []
    },
    {
      "cell_type": "code",
      "source": [
        "print('Accuracy on training data : ', round(accuracy_on_training_data * 100,3), \"%\")"
      ],
      "metadata": {
        "colab": {
          "base_uri": "https://localhost:8080/"
        },
        "id": "A3cRxAby-g3x",
        "outputId": "84709661-a021-4704-8742-eddd17874fb7"
      },
      "id": "A3cRxAby-g3x",
      "execution_count": 108,
      "outputs": [
        {
          "output_type": "stream",
          "name": "stdout",
          "text": [
            "Accuracy on training data :  94.231 %\n"
          ]
        }
      ]
    },
    {
      "cell_type": "code",
      "source": [
        "# prediction on test data\n",
        "y_pred = modelgnb.predict(X_test_features.toarray())\n",
        "accuracy_on_test_data = round(accuracy_score(y_test, y_pred) * 100,3)"
      ],
      "metadata": {
        "id": "8Vx0xmJx-g60"
      },
      "id": "8Vx0xmJx-g60",
      "execution_count": 109,
      "outputs": []
    },
    {
      "cell_type": "code",
      "source": [
        "print('Accuracy on test data : ', accuracy_on_test_data, \"%\")"
      ],
      "metadata": {
        "colab": {
          "base_uri": "https://localhost:8080/"
        },
        "id": "8cqmaFym-g9z",
        "outputId": "4ae80ded-7fe1-4549-bc5b-5827796a08dc"
      },
      "id": "8cqmaFym-g9z",
      "execution_count": 110,
      "outputs": [
        {
          "output_type": "stream",
          "name": "stdout",
          "text": [
            "Accuracy on test data :  89.234 %\n"
          ]
        }
      ]
    },
    {
      "cell_type": "code",
      "source": [
        "print(classification_report(y_test,y_pred))"
      ],
      "metadata": {
        "colab": {
          "base_uri": "https://localhost:8080/"
        },
        "id": "8fDhHoCz-tjo",
        "outputId": "9c9078ae-dbe8-498b-c672-6c6418295fd9"
      },
      "id": "8fDhHoCz-tjo",
      "execution_count": 111,
      "outputs": [
        {
          "output_type": "stream",
          "name": "stdout",
          "text": [
            "              precision    recall  f1-score   support\n",
            "\n",
            "           0       0.98      0.90      0.94       728\n",
            "           1       0.55      0.87      0.68       108\n",
            "\n",
            "    accuracy                           0.89       836\n",
            "   macro avg       0.77      0.88      0.81       836\n",
            "weighted avg       0.92      0.89      0.90       836\n",
            "\n"
          ]
        }
      ]
    },
    {
      "cell_type": "code",
      "source": [
        "cm = confusion_matrix(y_test, y_pred, labels=modelgnb.classes_)\n",
        "disp = ConfusionMatrixDisplay(confusion_matrix=cm,display_labels=modelgnb.classes_)\n",
        "disp.plot()\n",
        "plt.show()"
      ],
      "metadata": {
        "colab": {
          "base_uri": "https://localhost:8080/",
          "height": 279
        },
        "id": "q92gj5eRBdYq",
        "outputId": "07876c08-35e2-40e6-9d32-c2180d27d1b2"
      },
      "id": "q92gj5eRBdYq",
      "execution_count": 112,
      "outputs": [
        {
          "output_type": "display_data",
          "data": {
            "text/plain": [
              "<Figure size 432x288 with 2 Axes>"
            ],
            "image/png": "[encoded data removed]"
          },
          "metadata": {
            "needs_background": "light"
          }
        }
      ]
    },
    {
      "cell_type": "markdown",
      "id": "fc6938db",
      "metadata": {
        "id": "fc6938db"
      },
      "source": [
        "# Logistic Regression"
      ]
    },
    {
      "cell_type": "code",
      "execution_count": 113,
      "id": "1c605151",
      "metadata": {
        "id": "1c605151"
      },
      "outputs": [],
      "source": [
        "modellr = LogisticRegression()"
      ]
    },
    {
      "cell_type": "code",
      "execution_count": 114,
      "id": "3dc4b3f5",
      "metadata": {
        "id": "3dc4b3f5",
        "outputId": "22e05d3c-5db0-40af-ae6e-254200f67153",
        "colab": {
          "base_uri": "https://localhost:8080/"
        }
      },
      "outputs": [
        {
          "output_type": "execute_result",
          "data": {
            "text/plain": [
              "LogisticRegression()"
            ]
          },
          "metadata": {},
          "execution_count": 114
        }
      ],
      "source": [
        "# training the Logistic Regression model with the training data\n",
        "modellr.fit(X_train_features, y_train)"
      ]
    },
    {
      "cell_type": "code",
      "execution_count": 115,
      "id": "36c012a9",
      "metadata": {
        "id": "36c012a9"
      },
      "outputs": [],
      "source": [
        "# prediction on training data\n",
        "prediction_on_training_data = modellr.predict(X_train_features)\n",
        "accuracy_on_training_data = round(accuracy_score(y_train, prediction_on_training_data) * 100,3)"
      ]
    },
    {
      "cell_type": "code",
      "execution_count": 116,
      "id": "a0bc8133",
      "metadata": {
        "id": "a0bc8133",
        "outputId": "622bd249-6882-4e87-e7fa-e5ed86dbc1fa",
        "colab": {
          "base_uri": "https://localhost:8080/"
        }
      },
      "outputs": [
        {
          "output_type": "stream",
          "name": "stdout",
          "text": [
            "Accuracy on training data :  96.795 %\n"
          ]
        }
      ],
      "source": [
        "print('Accuracy on training data : ', accuracy_on_training_data, \"%\")"
      ]
    },
    {
      "cell_type": "code",
      "execution_count": 117,
      "id": "572f5f30",
      "metadata": {
        "id": "572f5f30"
      },
      "outputs": [],
      "source": [
        "# prediction on test data\n",
        "y_pred = modellr.predict(X_test_features)\n",
        "accuracy_on_test_data = round(accuracy_score(y_test, y_pred) * 100,3)"
      ]
    },
    {
      "cell_type": "code",
      "execution_count": 118,
      "id": "5aea1525",
      "metadata": {
        "id": "5aea1525",
        "outputId": "94735cec-dd8f-4cb0-f54f-f19a8cf62e8b",
        "colab": {
          "base_uri": "https://localhost:8080/"
        }
      },
      "outputs": [
        {
          "output_type": "stream",
          "name": "stdout",
          "text": [
            "Accuracy on test data :  96.053 %\n"
          ]
        }
      ],
      "source": [
        "print('Accuracy on test data : ', accuracy_on_test_data, \"%\")"
      ]
    },
    {
      "cell_type": "code",
      "execution_count": 119,
      "id": "5f994b81",
      "metadata": {
        "id": "5f994b81",
        "outputId": "867baa01-3368-4fef-f894-430672d33a1a",
        "colab": {
          "base_uri": "https://localhost:8080/"
        }
      },
      "outputs": [
        {
          "output_type": "stream",
          "name": "stdout",
          "text": [
            "              precision    recall  f1-score   support\n",
            "\n",
            "           0       0.96      1.00      0.98       728\n",
            "           1       0.99      0.70      0.82       108\n",
            "\n",
            "    accuracy                           0.96       836\n",
            "   macro avg       0.97      0.85      0.90       836\n",
            "weighted avg       0.96      0.96      0.96       836\n",
            "\n"
          ]
        }
      ],
      "source": [
        "print(classification_report(y_test,y_pred))"
      ]
    },
    {
      "cell_type": "code",
      "source": [
        "cm = confusion_matrix(y_test, y_pred, labels=modellr.classes_)\n",
        "disp = ConfusionMatrixDisplay(confusion_matrix=cm,display_labels=modellr.classes_)\n",
        "disp.plot()\n",
        "plt.show()"
      ],
      "metadata": {
        "colab": {
          "base_uri": "https://localhost:8080/",
          "height": 279
        },
        "id": "u0VjHYcVCQSC",
        "outputId": "034d351b-1ed9-403d-81c0-a95f9b0e3fd4"
      },
      "id": "u0VjHYcVCQSC",
      "execution_count": 120,
      "outputs": [
        {
          "output_type": "display_data",
          "data": {
            "text/plain": [
              "<Figure size 432x288 with 2 Axes>"
            ],
            "image/png": "[encoded data removed]"
          },
          "metadata": {
            "needs_background": "light"
          }
        }
      ]
    },
    {
      "cell_type": "markdown",
      "id": "f0b71acd",
      "metadata": {
        "id": "f0b71acd"
      },
      "source": [
        "# MLP Classifier"
      ]
    },
    {
      "cell_type": "code",
      "execution_count": 121,
      "id": "a849cfa0",
      "metadata": {
        "colab": {
          "base_uri": "https://localhost:8080/"
        },
        "id": "a849cfa0",
        "outputId": "196b90e6-cac2-46c6-9153-4306b5a07672"
      },
      "outputs": [
        {
          "output_type": "execute_result",
          "data": {
            "text/plain": [
              "MLPClassifier()"
            ]
          },
          "metadata": {},
          "execution_count": 121
        }
      ],
      "source": [
        "modelmlp = MLPClassifier()\n",
        "modelmlp.fit(X_train_features, y_train)"
      ]
    },
    {
      "cell_type": "code",
      "execution_count": 122,
      "id": "b18a9ee9",
      "metadata": {
        "id": "b18a9ee9"
      },
      "outputs": [],
      "source": [
        "# prediction on training data\n",
        "prediction_on_training_data = modelmlp.predict(X_train_features)\n",
        "accuracy_on_training_data = round(accuracy_score(y_train, prediction_on_training_data) * 100, 3)"
      ]
    },
    {
      "cell_type": "code",
      "execution_count": 123,
      "id": "48c8ca7e",
      "metadata": {
        "colab": {
          "base_uri": "https://localhost:8080/"
        },
        "id": "48c8ca7e",
        "outputId": "f6be1187-5275-492c-f269-3a0520a321a7"
      },
      "outputs": [
        {
          "output_type": "stream",
          "name": "stdout",
          "text": [
            "Accuracy on training data :  100.0 %\n"
          ]
        }
      ],
      "source": [
        "print('Accuracy on training data : ', accuracy_on_training_data, \"%\")"
      ]
    },
    {
      "cell_type": "code",
      "execution_count": 124,
      "id": "4901e6de",
      "metadata": {
        "id": "4901e6de"
      },
      "outputs": [],
      "source": [
        "# prediction on test data\n",
        "y_pred = modelmlp.predict(X_test_features)\n",
        "accuracy_on_test_data = round(accuracy_score(y_test, y_pred) * 100,3)"
      ]
    },
    {
      "cell_type": "code",
      "execution_count": 125,
      "id": "adcc77a6",
      "metadata": {
        "colab": {
          "base_uri": "https://localhost:8080/"
        },
        "id": "adcc77a6",
        "outputId": "913d2e20-4647-43bf-92c5-51d76b2ca2a6"
      },
      "outputs": [
        {
          "output_type": "stream",
          "name": "stdout",
          "text": [
            "Accuracy on test data :  99.163 %\n"
          ]
        }
      ],
      "source": [
        "print('Accuracy on test data : ', accuracy_on_test_data, \"%\")"
      ]
    },
    {
      "cell_type": "code",
      "execution_count": 126,
      "id": "cbab85e5",
      "metadata": {
        "colab": {
          "base_uri": "https://localhost:8080/"
        },
        "id": "cbab85e5",
        "outputId": "015bf3c3-4df8-40c8-8421-7ecdcbc2db81"
      },
      "outputs": [
        {
          "output_type": "stream",
          "name": "stdout",
          "text": [
            "              precision    recall  f1-score   support\n",
            "\n",
            "           0       0.99      1.00      1.00       728\n",
            "           1       1.00      0.94      0.97       108\n",
            "\n",
            "    accuracy                           0.99       836\n",
            "   macro avg       1.00      0.97      0.98       836\n",
            "weighted avg       0.99      0.99      0.99       836\n",
            "\n"
          ]
        }
      ],
      "source": [
        "print(classification_report(y_test,y_pred))"
      ]
    },
    {
      "cell_type": "code",
      "source": [
        "cm = confusion_matrix(y_test, y_pred, labels=modelmlp.classes_)\n",
        "disp = ConfusionMatrixDisplay(confusion_matrix=cm,display_labels=modelmlp.classes_)\n",
        "disp.plot()\n",
        "plt.show()"
      ],
      "metadata": {
        "colab": {
          "base_uri": "https://localhost:8080/",
          "height": 279
        },
        "id": "EXo0SexKCgId",
        "outputId": "98cec5cc-4b32-4f14-ec39-fbe9ab735c12"
      },
      "id": "EXo0SexKCgId",
      "execution_count": 127,
      "outputs": [
        {
          "output_type": "display_data",
          "data": {
            "text/plain": [
              "<Figure size 432x288 with 2 Axes>"
            ],
            "image/png": "[encoded data removed]"
          },
          "metadata": {
            "needs_background": "light"
          }
        }
      ]
    },
    {
      "cell_type": "markdown",
      "source": [
        "**In terms of accuracy, F1 score and precision values, the Multi Layer perceptron is the best performing one, since for this specific task, we have to maximise precision.**"
      ],
      "metadata": {
        "id": "TbpJqcLKFHao"
      },
      "id": "TbpJqcLKFHao"
    }
  ],
  "metadata": {
    "kernelspec": {
      "display_name": "Python 3",
      "language": "python",
      "name": "python3"
    },
    "language_info": {
      "codemirror_mode": {
        "name": "ipython",
        "version": 3
      },
      "file_extension": ".py",
      "mimetype": "text/x-python",
      "name": "python",
      "nbconvert_exporter": "python",
      "pygments_lexer": "ipython3",
      "version": "3.8.8"
    },
    "colab": {
      "provenance": []
    }
  },
  "nbformat": 4,
  "nbformat_minor": 5
}