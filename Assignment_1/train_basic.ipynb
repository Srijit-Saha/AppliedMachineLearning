{
 "cells": [
  {
   "cell_type": "code",
   "execution_count": 1,
   "id": "a9ba458d",
   "metadata": {},
   "outputs": [],
   "source": [
    "from sklearn.metrics._plot.precision_recall_curve import precision_recall_curve\n",
    "import pandas as pd\n",
    "import sklearn\n",
    "import numpy as np\n",
    "import matplotlib.pyplot as plt\n",
    "from sklearn.model_selection import GridSearchCV\n",
    "from sklearn.feature_extraction.text import TfidfVectorizer\n",
    "from sklearn.linear_model import LogisticRegression\n",
    "from sklearn.ensemble import AdaBoostClassifier\n",
    "from sklearn.discriminant_analysis import QuadraticDiscriminantAnalysis\n",
    "from sklearn.metrics import accuracy_score, classification_report, confusion_matrix, ConfusionMatrixDisplay, precision_recall_curve, auc\n",
    "from sklearn.neural_network import MLPClassifier\n",
    "from sklearn.naive_bayes import GaussianNB, MultinomialNB, BernoulliNB\n",
    "from urllib.parse import urlparse\n",
    "import mlflow\n",
    "import mlflow.sklearn\n",
    "import logging\n",
    "\n",
    "logging.basicConfig(level=logging.WARN)\n",
    "logger = logging.getLogger(__name__)"
   ]
  },
  {
   "cell_type": "code",
   "execution_count": 2,
   "id": "8cc74173",
   "metadata": {},
   "outputs": [],
   "source": [
    "# !pip install mlflow\n",
    "path = r\"C://Users//User//Downloads//\"\n",
    "train = pd.read_csv(path + \"train.csv\")\n",
    "val=pd.read_csv(path + \"validation.csv\")\n",
    "test=pd.read_csv(path + \"test.csv\")"
   ]
  },
  {
   "cell_type": "code",
   "execution_count": 8,
   "id": "069e5942",
   "metadata": {},
   "outputs": [],
   "source": [
    "y_train,X_train=train[\"Label\"],train[\"Text\"]\n",
    "y_val,X_val=val[\"Label\"],val[\"Text\"]\n",
    "y_test,X_test=test[\"Label\"],test[\"Text\"]"
   ]
  },
  {
   "cell_type": "code",
   "execution_count": 9,
   "id": "09535078",
   "metadata": {},
   "outputs": [],
   "source": [
    "# transform the text data to feature vectors that can be used as input for the models\n",
    "feature_extraction = TfidfVectorizer(min_df = 1, stop_words='english', lowercase='True')\n",
    "X_train_features = feature_extraction.fit_transform(X_train)\n",
    "X_test_features = feature_extraction.transform(X_test)\n",
    "X_val_features = feature_extraction.transform(X_val)\n",
    "y_train = y_train.astype('int')\n",
    "y_test = y_test.astype('int')\n",
    "y_val = y_val.astype('int')"
   ]
  },
  {
   "cell_type": "markdown",
   "id": "dac17a2e",
   "metadata": {},
   "source": [
    "# 1.1 Naive Bayes\n"
   ]
  },
  {
   "cell_type": "code",
   "execution_count": 10,
   "id": "4b6095ad",
   "metadata": {},
   "outputs": [
    {
     "data": {
      "text/plain": [
       "BernoulliNB()"
      ]
     },
     "execution_count": 10,
     "metadata": {},
     "output_type": "execute_result"
    }
   ],
   "source": [
    "modelbnb = BernoulliNB()\n",
    "modelbnb.fit(X_train_features.toarray() , y_train)"
   ]
  },
  {
   "cell_type": "code",
   "execution_count": 11,
   "id": "aac95ea0",
   "metadata": {},
   "outputs": [],
   "source": [
    "# prediction on training data\n",
    "\n",
    "prediction_on_training_data = modelbnb.predict(X_train_features.toarray())\n",
    "accuracy_on_training_data = accuracy_score(y_train, prediction_on_training_data)"
   ]
  },
  {
   "cell_type": "code",
   "execution_count": 12,
   "id": "e61a0747",
   "metadata": {},
   "outputs": [
    {
     "name": "stdout",
     "output_type": "stream",
     "text": [
      "Accuracy on training data :  98.744 %\n"
     ]
    }
   ],
   "source": [
    "print('Accuracy on training data : ', round(accuracy_on_training_data * 100,3), \"%\")"
   ]
  },
  {
   "cell_type": "code",
   "execution_count": 13,
   "id": "5ea217f9",
   "metadata": {},
   "outputs": [],
   "source": [
    "# prediction on Validation data\n",
    "\n",
    "prediction_on_val_data = modelbnb.predict(X_val_features.toarray())\n",
    "accuracy_on_val_data = accuracy_score(y_val, prediction_on_val_data)"
   ]
  },
  {
   "cell_type": "code",
   "execution_count": 14,
   "id": "af11ad57",
   "metadata": {},
   "outputs": [
    {
     "name": "stdout",
     "output_type": "stream",
     "text": [
      "Accuracy on Validation data :  97.129 %\n"
     ]
    }
   ],
   "source": [
    "print('Accuracy on Validation data : ', round(accuracy_on_val_data * 100,3), \"%\")"
   ]
  },
  {
   "cell_type": "code",
   "execution_count": 15,
   "id": "756119bc",
   "metadata": {},
   "outputs": [],
   "source": [
    "# prediction on test data\n",
    "y_pred = modelbnb.predict(X_test_features.toarray())\n",
    "accuracy_on_test_data = round(accuracy_score(y_test, y_pred) * 100,3)"
   ]
  },
  {
   "cell_type": "code",
   "execution_count": 16,
   "id": "e01113be",
   "metadata": {},
   "outputs": [
    {
     "name": "stdout",
     "output_type": "stream",
     "text": [
      "Accuracy on test data :  97.608 %\n"
     ]
    }
   ],
   "source": [
    "print('Accuracy on test data : ', accuracy_on_test_data, \"%\")"
   ]
  },
  {
   "cell_type": "code",
   "execution_count": 17,
   "id": "d7882c33",
   "metadata": {},
   "outputs": [
    {
     "name": "stdout",
     "output_type": "stream",
     "text": [
      "              precision    recall  f1-score   support\n",
      "\n",
      "           0       0.97      1.00      0.99       726\n",
      "           1       1.00      0.82      0.90       110\n",
      "\n",
      "    accuracy                           0.98       836\n",
      "   macro avg       0.99      0.91      0.94       836\n",
      "weighted avg       0.98      0.98      0.98       836\n",
      "\n"
     ]
    }
   ],
   "source": [
    "print(classification_report(y_test,y_pred))"
   ]
  },
  {
   "cell_type": "code",
   "execution_count": 18,
   "id": "b8cc3a5a",
   "metadata": {},
   "outputs": [
    {
     "data": {
      "image/png": "[encoded data removed]",
      "text/plain": [
       "<Figure size 432x288 with 2 Axes>"
      ]
     },
     "metadata": {
      "needs_background": "light"
     },
     "output_type": "display_data"
    }
   ],
   "source": [
    "cm = confusion_matrix(y_test, y_pred, labels=modelbnb.classes_)\n",
    "disp = ConfusionMatrixDisplay(confusion_matrix=cm,display_labels=modelbnb.classes_)\n",
    "disp.plot()\n",
    "plt.show()"
   ]
  },
  {
   "cell_type": "code",
   "execution_count": 19,
   "id": "d6de17dc",
   "metadata": {},
   "outputs": [],
   "source": [
    "def eval_metrics(actual, pred):\n",
    "    prec, recall,_ = precision_recall_curve(actual, pred)\n",
    "    aucpr = auc(recall, prec)\n",
    "    return aucpr"
   ]
  },
  {
   "cell_type": "code",
   "execution_count": 21,
   "id": "bba64a49",
   "metadata": {},
   "outputs": [
    {
     "name": "stdout",
     "output_type": "stream",
     "text": [
      "Bernoulli Naive Bayes model (Area under Precision_Recall Curve=0.921053):\n"
     ]
    }
   ],
   "source": [
    "  with mlflow.start_run():\n",
    "        lr = BernoulliNB()\n",
    "        lr.fit(X_train_features, y_train)\n",
    "\n",
    "        predicted_qualities = lr.predict(X_test_features)\n",
    "\n",
    "        aucpr = eval_metrics(y_test, predicted_qualities)\n",
    "\n",
    "        print(\"Bernoulli Naive Bayes model (Area under Precision_Recall Curve={:f}):\".format(aucpr))\n",
    "      \n",
    "        mlflow.log_param(\"Area under Precision Recall Curve\", aucpr)\n",
    "        \n",
    "\n",
    "        tracking_url_type_store = urlparse(mlflow.get_tracking_uri()).scheme\n",
    "\n",
    "        # Model registry does not work with file store\n",
    "        if tracking_url_type_store != \"file\":\n",
    "\n",
    "            # Register the model\n",
    "            # There are other ways to use the Model Registry, which depends on the use case,\n",
    "            # please refer to the doc for more information:\n",
    "            # https://mlflow.org/docs/latest/model-registry.html#api-workflow\n",
    "            mlflow.sklearn.log_model(lr, \"model\", registered_model_name=\"Naive Bayes Bernoulli\")\n",
    "        else:\n",
    "            mlflow.sklearn.log_model(lr, \"model\")"
   ]
  },
  {
   "cell_type": "markdown",
   "id": "ff086ace",
   "metadata": {},
   "source": [
    "# 1.2 Gaussian Naive Bayes"
   ]
  },
  {
   "cell_type": "code",
   "execution_count": 22,
   "id": "7fe1e117",
   "metadata": {},
   "outputs": [
    {
     "data": {
      "text/plain": [
       "GaussianNB()"
      ]
     },
     "execution_count": 22,
     "metadata": {},
     "output_type": "execute_result"
    }
   ],
   "source": [
    "modelgnb = GaussianNB()\n",
    "modelgnb.fit(X_train_features.toarray() , y_train)"
   ]
  },
  {
   "cell_type": "code",
   "execution_count": 23,
   "id": "b4ef7c2a",
   "metadata": {},
   "outputs": [],
   "source": [
    "prediction_on_training_data = modelgnb.predict(X_train_features.toarray())\n",
    "accuracy_on_training_data = accuracy_score(y_train, prediction_on_training_data)"
   ]
  },
  {
   "cell_type": "code",
   "execution_count": 24,
   "id": "c38a7a3e",
   "metadata": {},
   "outputs": [
    {
     "name": "stdout",
     "output_type": "stream",
     "text": [
      "Accuracy on training data :  94.231 %\n"
     ]
    }
   ],
   "source": [
    "print('Accuracy on training data : ', round(accuracy_on_training_data * 100,3), \"%\")"
   ]
  },
  {
   "cell_type": "code",
   "execution_count": 25,
   "id": "059247ba",
   "metadata": {},
   "outputs": [],
   "source": [
    "# from sklearn.model_selection import RepeatedStratifiedKFold\n",
    "# cv_method = RepeatedStratifiedKFold(n_splits=50,  n_repeats=3, random_state=999)\n",
    "\n",
    "# from sklearn.preprocessing import PowerTransformer\n",
    "# params_NB = {'var_smoothing': np.logspace(0,-9, num=100)}\n",
    "# gs_NB = GridSearchCV(estimator=modelgnb, param_grid=params_NB, cv=cv_method,verbose=1,scoring='accuracy')\n"
   ]
  },
  {
   "cell_type": "code",
   "execution_count": 26,
   "id": "be03c6ed",
   "metadata": {},
   "outputs": [],
   "source": [
    "# prediction on Validation data\n",
    "\n",
    "prediction_on_val_data = modelgnb.predict(X_val_features.toarray())\n",
    "# pred_on_val_data = gs_NB.fit(X_val_features.toarray(), y_val)\n",
    "accuracy_on_val_data = accuracy_score(y_val, prediction_on_val_data)"
   ]
  },
  {
   "cell_type": "code",
   "execution_count": 27,
   "id": "c4afe618",
   "metadata": {},
   "outputs": [
    {
     "name": "stdout",
     "output_type": "stream",
     "text": [
      "Accuracy on Validation data :  89.234 %\n"
     ]
    }
   ],
   "source": [
    "print('Accuracy on Validation data : ', round(accuracy_on_val_data * 100,3), \"%\")"
   ]
  },
  {
   "cell_type": "code",
   "execution_count": 28,
   "id": "9c1a2a68",
   "metadata": {},
   "outputs": [],
   "source": [
    "# prediction on test data\n",
    "y_pred = modelgnb.predict(X_test_features.toarray())\n",
    "accuracy_on_test_data = round(accuracy_score(y_test, y_pred) * 100,3)"
   ]
  },
  {
   "cell_type": "code",
   "execution_count": 29,
   "id": "fd32cff1",
   "metadata": {},
   "outputs": [
    {
     "name": "stdout",
     "output_type": "stream",
     "text": [
      "Accuracy on test data :  88.995 %\n"
     ]
    }
   ],
   "source": [
    "print('Accuracy on test data : ', accuracy_on_test_data, \"%\")"
   ]
  },
  {
   "cell_type": "code",
   "execution_count": 30,
   "id": "db875a45",
   "metadata": {},
   "outputs": [
    {
     "name": "stdout",
     "output_type": "stream",
     "text": [
      "              precision    recall  f1-score   support\n",
      "\n",
      "           0       0.98      0.89      0.93       726\n",
      "           1       0.55      0.89      0.68       110\n",
      "\n",
      "    accuracy                           0.89       836\n",
      "   macro avg       0.77      0.89      0.81       836\n",
      "weighted avg       0.93      0.89      0.90       836\n",
      "\n"
     ]
    }
   ],
   "source": [
    "print(classification_report(y_test,y_pred))"
   ]
  },
  {
   "cell_type": "code",
   "execution_count": 31,
   "id": "b9408a60",
   "metadata": {},
   "outputs": [
    {
     "data": {
      "image/png": "[encoded data removed]",
      "text/plain": [
       "<Figure size 432x288 with 2 Axes>"
      ]
     },
     "metadata": {
      "needs_background": "light"
     },
     "output_type": "display_data"
    }
   ],
   "source": [
    "cm = confusion_matrix(y_test, y_pred, labels=modelgnb.classes_)\n",
    "disp = ConfusionMatrixDisplay(confusion_matrix=cm,display_labels=modelgnb.classes_)\n",
    "disp.plot()\n",
    "plt.show()"
   ]
  },
  {
   "cell_type": "code",
   "execution_count": 35,
   "id": "541eda16",
   "metadata": {},
   "outputs": [
    {
     "name": "stdout",
     "output_type": "stream",
     "text": [
      "Gaussian Naive Bayes model (Area under Precision_Recall Curve=0.727912):\n"
     ]
    }
   ],
   "source": [
    "  with mlflow.start_run():\n",
    "        lr = GaussianNB()\n",
    "        lr.fit(X_train_features.toarray(), y_train)\n",
    "\n",
    "        predicted_qualities = lr.predict(X_test_features.toarray())\n",
    "\n",
    "        aucpr = eval_metrics(y_test, predicted_qualities)\n",
    "\n",
    "        print(\"Gaussian Naive Bayes model (Area under Precision_Recall Curve={:f}):\".format(aucpr))\n",
    "      \n",
    "        mlflow.log_param(\"Area under Precision Recall Curve\", aucpr)\n",
    "        \n",
    "\n",
    "        tracking_url_type_store = urlparse(mlflow.get_tracking_uri()).scheme\n",
    "\n",
    "        # Model registry does not work with file store\n",
    "        if tracking_url_type_store != \"file\":\n",
    "\n",
    "            # Register the model\n",
    "            # There are other ways to use the Model Registry, which depends on the use case,\n",
    "            # please refer to the doc for more information:\n",
    "            # https://mlflow.org/docs/latest/model-registry.html#api-workflow\n",
    "            mlflow.sklearn.log_model(lr, \"modelgnb\", registered_model_name=\"Gaussian Bayes Bernoulli\")\n",
    "        else:\n",
    "            mlflow.sklearn.log_model(lr, \"modelgnb\")"
   ]
  },
  {
   "cell_type": "markdown",
   "id": "db258fbe",
   "metadata": {},
   "source": [
    "# 2. Logistic Regression"
   ]
  },
  {
   "cell_type": "code",
   "execution_count": 36,
   "id": "62a172a8",
   "metadata": {},
   "outputs": [],
   "source": [
    "modellr = LogisticRegression()"
   ]
  },
  {
   "cell_type": "code",
   "execution_count": 37,
   "id": "35086862",
   "metadata": {},
   "outputs": [
    {
     "data": {
      "text/plain": [
       "LogisticRegression()"
      ]
     },
     "execution_count": 37,
     "metadata": {},
     "output_type": "execute_result"
    }
   ],
   "source": [
    "# training the Logistic Regression model with the training data\n",
    "modellr.fit(X_train_features, y_train)"
   ]
  },
  {
   "cell_type": "code",
   "execution_count": 38,
   "id": "73a4bf10",
   "metadata": {},
   "outputs": [],
   "source": [
    "# prediction on training data\n",
    "prediction_on_training_data = modellr.predict(X_train_features)\n",
    "accuracy_on_training_data = round(accuracy_score(y_train, prediction_on_training_data) * 100,3)"
   ]
  },
  {
   "cell_type": "code",
   "execution_count": 39,
   "id": "f68348ad",
   "metadata": {},
   "outputs": [
    {
     "name": "stdout",
     "output_type": "stream",
     "text": [
      "Accuracy on training data :  96.795 %\n"
     ]
    }
   ],
   "source": [
    "print('Accuracy on training data : ', accuracy_on_training_data, \"%\")"
   ]
  },
  {
   "cell_type": "code",
   "execution_count": 40,
   "id": "4ea28e7a",
   "metadata": {},
   "outputs": [],
   "source": [
    "# prediction on Validation data\n",
    "\n",
    "prediction_on_val_data = modellr.predict(X_val_features.toarray())\n",
    "accuracy_on_val_data = accuracy_score(y_val, prediction_on_val_data)"
   ]
  },
  {
   "cell_type": "code",
   "execution_count": 41,
   "id": "a402ab1e",
   "metadata": {},
   "outputs": [
    {
     "name": "stdout",
     "output_type": "stream",
     "text": [
      "Accuracy on Validation data :  96.053 %\n"
     ]
    }
   ],
   "source": [
    "print('Accuracy on Validation data : ', round(accuracy_on_val_data * 100,3), \"%\")"
   ]
  },
  {
   "cell_type": "code",
   "execution_count": 42,
   "id": "d2216d9b",
   "metadata": {},
   "outputs": [],
   "source": [
    "# prediction on test data\n",
    "y_pred = modellr.predict(X_test_features)\n",
    "accuracy_on_test_data = round(accuracy_score(y_test, y_pred) * 100,3)"
   ]
  },
  {
   "cell_type": "code",
   "execution_count": 43,
   "id": "892b63b9",
   "metadata": {},
   "outputs": [
    {
     "name": "stdout",
     "output_type": "stream",
     "text": [
      "Accuracy on test data :  95.455 %\n"
     ]
    }
   ],
   "source": [
    "print('Accuracy on test data : ', accuracy_on_test_data, \"%\")"
   ]
  },
  {
   "cell_type": "code",
   "execution_count": 44,
   "id": "92846393",
   "metadata": {},
   "outputs": [
    {
     "name": "stdout",
     "output_type": "stream",
     "text": [
      "              precision    recall  f1-score   support\n",
      "\n",
      "           0       0.95      1.00      0.97       726\n",
      "           1       0.97      0.67      0.80       110\n",
      "\n",
      "    accuracy                           0.95       836\n",
      "   macro avg       0.96      0.83      0.89       836\n",
      "weighted avg       0.96      0.95      0.95       836\n",
      "\n"
     ]
    }
   ],
   "source": [
    "print(classification_report(y_test,y_pred))"
   ]
  },
  {
   "cell_type": "code",
   "execution_count": 45,
   "id": "42464002",
   "metadata": {},
   "outputs": [
    {
     "data": {
      "image/png": "[encoded data removed]",
      "text/plain": [
       "<Figure size 432x288 with 2 Axes>"
      ]
     },
     "metadata": {
      "needs_background": "light"
     },
     "output_type": "display_data"
    }
   ],
   "source": [
    "cm = confusion_matrix(y_test, y_pred, labels=modellr.classes_)\n",
    "disp = ConfusionMatrixDisplay(confusion_matrix=cm,display_labels=modellr.classes_)\n",
    "disp.plot()\n",
    "plt.show()"
   ]
  },
  {
   "cell_type": "code",
   "execution_count": 46,
   "id": "8378848d",
   "metadata": {},
   "outputs": [
    {
     "name": "stdout",
     "output_type": "stream",
     "text": [
      "Logistic Regression model (Area under Precision_Recall Curve=0.844737):\n"
     ]
    }
   ],
   "source": [
    "  with mlflow.start_run():\n",
    "        lr = LogisticRegression()\n",
    "        lr.fit(X_train_features, y_train)\n",
    "        predicted_qualities = lr.predict(X_test_features)\n",
    "        aucpr = eval_metrics(y_test, predicted_qualities)\n",
    "\n",
    "        print(\"Logistic Regression model (Area under Precision_Recall Curve={:f}):\".format(aucpr))\n",
    "      \n",
    "        mlflow.log_param(\"Area under Precision Recall Curve\", aucpr)\n",
    "        \n",
    "\n",
    "        tracking_url_type_store = urlparse(mlflow.get_tracking_uri()).scheme\n",
    "\n",
    "        # Model registry does not work with file store\n",
    "        if tracking_url_type_store != \"file\":\n",
    "\n",
    "            # Register the model\n",
    "            # There are other ways to use the Model Registry, which depends on the use case,\n",
    "            # please refer to the doc for more information:\n",
    "            # https://mlflow.org/docs/latest/model-registry.html#api-workflow\n",
    "            mlflow.sklearn.log_model(lr, \"model\", registered_model_name=\"Logistic Regression\")\n",
    "        else:\n",
    "            mlflow.sklearn.log_model(lr, \"model\")"
   ]
  },
  {
   "cell_type": "markdown",
   "id": "a1d579e9",
   "metadata": {},
   "source": [
    "# 3. MLP Classifier"
   ]
  },
  {
   "cell_type": "code",
   "execution_count": 47,
   "id": "636c606c",
   "metadata": {},
   "outputs": [
    {
     "data": {
      "text/plain": [
       "MLPClassifier()"
      ]
     },
     "execution_count": 47,
     "metadata": {},
     "output_type": "execute_result"
    }
   ],
   "source": [
    "modelmlp = MLPClassifier()\n",
    "modelmlp.fit(X_train_features, y_train)"
   ]
  },
  {
   "cell_type": "code",
   "execution_count": 48,
   "id": "5bf3322a",
   "metadata": {},
   "outputs": [],
   "source": [
    "# prediction on training data\n",
    "prediction_on_training_data = modelmlp.predict(X_train_features)\n",
    "accuracy_on_training_data = round(accuracy_score(y_train, prediction_on_training_data) * 100, 3)"
   ]
  },
  {
   "cell_type": "code",
   "execution_count": 49,
   "id": "d283ff69",
   "metadata": {},
   "outputs": [
    {
     "name": "stdout",
     "output_type": "stream",
     "text": [
      "Accuracy on training data :  100.0 %\n"
     ]
    }
   ],
   "source": [
    "print('Accuracy on training data : ', accuracy_on_training_data, \"%\")"
   ]
  },
  {
   "cell_type": "code",
   "execution_count": 50,
   "id": "61864a47",
   "metadata": {},
   "outputs": [],
   "source": [
    "# prediction on Validation data\n",
    "\n",
    "prediction_on_val_data = modelmlp.predict(X_val_features.toarray())\n",
    "accuracy_on_val_data = accuracy_score(y_val, prediction_on_val_data)"
   ]
  },
  {
   "cell_type": "code",
   "execution_count": 51,
   "id": "d649902c",
   "metadata": {},
   "outputs": [
    {
     "name": "stdout",
     "output_type": "stream",
     "text": [
      "Accuracy on Validation data :  99.163 %\n"
     ]
    }
   ],
   "source": [
    "print('Accuracy on Validation data : ', round(accuracy_on_val_data * 100,3), \"%\")"
   ]
  },
  {
   "cell_type": "code",
   "execution_count": 52,
   "id": "e4f5b727",
   "metadata": {},
   "outputs": [],
   "source": [
    "# prediction on test data\n",
    "y_pred = modelmlp.predict(X_test_features)\n",
    "accuracy_on_test_data = round(accuracy_score(y_test, y_pred) * 100,3)"
   ]
  },
  {
   "cell_type": "code",
   "execution_count": 53,
   "id": "74e3e62f",
   "metadata": {},
   "outputs": [
    {
     "name": "stdout",
     "output_type": "stream",
     "text": [
      "Accuracy on test data :  99.043 %\n"
     ]
    }
   ],
   "source": [
    "print('Accuracy on test data : ', accuracy_on_test_data, \"%\")"
   ]
  },
  {
   "cell_type": "code",
   "execution_count": 54,
   "id": "d462dfb6",
   "metadata": {},
   "outputs": [
    {
     "name": "stdout",
     "output_type": "stream",
     "text": [
      "              precision    recall  f1-score   support\n",
      "\n",
      "           0       0.99      1.00      0.99       726\n",
      "           1       0.99      0.94      0.96       110\n",
      "\n",
      "    accuracy                           0.99       836\n",
      "   macro avg       0.99      0.97      0.98       836\n",
      "weighted avg       0.99      0.99      0.99       836\n",
      "\n"
     ]
    }
   ],
   "source": [
    "print(classification_report(y_test,y_pred))"
   ]
  },
  {
   "cell_type": "code",
   "execution_count": 55,
   "id": "c132a7bc",
   "metadata": {},
   "outputs": [
    {
     "data": {
      "image/png": "[encoded data removed]",
      "text/plain": [
       "<Figure size 432x288 with 2 Axes>"
      ]
     },
     "metadata": {
      "needs_background": "light"
     },
     "output_type": "display_data"
    }
   ],
   "source": [
    "cm = confusion_matrix(y_test, y_pred, labels=modelmlp.classes_)\n",
    "disp = ConfusionMatrixDisplay(confusion_matrix=cm,display_labels=modelmlp.classes_)\n",
    "disp.plot()\n",
    "plt.show()"
   ]
  },
  {
   "cell_type": "code",
   "execution_count": 56,
   "id": "13549f6c",
   "metadata": {},
   "outputs": [
    {
     "name": "stdout",
     "output_type": "stream",
     "text": [
      "MLP model (Area under Precision_Recall Curve=0.967561):\n"
     ]
    }
   ],
   "source": [
    "  with mlflow.start_run():\n",
    "        lr = MLPClassifier()\n",
    "        lr.fit(X_train_features, y_train)\n",
    "        predicted_qualities = lr.predict(X_test_features)\n",
    "        aucpr = eval_metrics(y_test, predicted_qualities)\n",
    "\n",
    "        print(\"MLP model (Area under Precision_Recall Curve={:f}):\".format(aucpr))\n",
    "      \n",
    "        mlflow.log_param(\"Area under Precision Recall Curve\", aucpr)\n",
    "        \n",
    "\n",
    "        tracking_url_type_store = urlparse(mlflow.get_tracking_uri()).scheme\n",
    "\n",
    "        # Model registry does not work with file store\n",
    "        if tracking_url_type_store != \"file\":\n",
    "\n",
    "            # Register the model\n",
    "            # There are other ways to use the Model Registry, which depends on the use case,\n",
    "            # please refer to the doc for more information:\n",
    "            # https://mlflow.org/docs/latest/model-registry.html#api-workflow\n",
    "            mlflow.sklearn.log_model(lr, \"model\", registered_model_name=\"Multilayer Perceptron Model\")\n",
    "        else:\n",
    "            mlflow.sklearn.log_model(lr, \"model\")"
   ]
  },
  {
   "cell_type": "markdown",
   "id": "3dfb0459",
   "metadata": {},
   "source": [
    "**In terms of accuracy, F1 score and precision values, the Multi Layer perceptron is the best performing one, since for this specific task, we have to maximise precision.**\n",
    "\n",
    "\n",
    "**Bernoulli Naive Bayes is also performing well for this model.**"
   ]
  }
 ],
 "metadata": {
  "kernelspec": {
   "display_name": "Python 3 (ipykernel)",
   "language": "python",
   "name": "python3"
  },
  "language_info": {
   "codemirror_mode": {
    "name": "ipython",
    "version": 3
   },
   "file_extension": ".py",
   "mimetype": "text/x-python",
   "name": "python",
   "nbconvert_exporter": "python",
   "pygments_lexer": "ipython3",
   "version": "3.8.10"
  }
 },
 "nbformat": 4,
 "nbformat_minor": 5
}
