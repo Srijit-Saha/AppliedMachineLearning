{
  "cells": [
    {
      "cell_type": "code",
      "execution_count": 21,
      "id": "4d788f91",
      "metadata": {
        "id": "4d788f91"
      },
      "outputs": [],
      "source": [
        "# Importing all necessary python libraries and modules. \n",
        "import pandas as pd\n",
        "from sklearn.preprocessing import LabelEncoder\n",
        "from sklearn.model_selection import train_test_split"
      ]
    },
    {
      "cell_type": "code",
      "execution_count": 22,
      "id": "BwMBLmJNoB-c",
      "metadata": {
        "id": "BwMBLmJNoB-c"
      },
      "outputs": [],
      "source": [
        "# # Mounting drive to read data \n",
        "# from google.colab import drive\n",
        "# drive.mount('/content/drive')"
      ]
    },
    {
      "cell_type": "code",
      "execution_count": 23,
      "id": "562e605f",
      "metadata": {
        "id": "562e605f"
      },
      "outputs": [
        {
          "data": {
            "text/html": [
              "<div>\n",
              "<style scoped>\n",
              "    .dataframe tbody tr th:only-of-type {\n",
              "        vertical-align: middle;\n",
              "    }\n",
              "\n",
              "    .dataframe tbody tr th {\n",
              "        vertical-align: top;\n",
              "    }\n",
              "\n",
              "    .dataframe thead th {\n",
              "        text-align: right;\n",
              "    }\n",
              "</style>\n",
              "<table border=\"1\" class=\"dataframe\">\n",
              "  <thead>\n",
              "    <tr style=\"text-align: right;\">\n",
              "      <th></th>\n",
              "      <th>Label</th>\n",
              "      <th>Text</th>\n",
              "    </tr>\n",
              "  </thead>\n",
              "  <tbody>\n",
              "    <tr>\n",
              "      <th>0</th>\n",
              "      <td>ham</td>\n",
              "      <td>Go until jurong point, crazy.. Available only ...</td>\n",
              "    </tr>\n",
              "    <tr>\n",
              "      <th>1</th>\n",
              "      <td>ham</td>\n",
              "      <td>Ok lar... Joking wif u oni...</td>\n",
              "    </tr>\n",
              "    <tr>\n",
              "      <th>2</th>\n",
              "      <td>spam</td>\n",
              "      <td>Free entry in 2 a wkly comp to win FA Cup fina...</td>\n",
              "    </tr>\n",
              "    <tr>\n",
              "      <th>3</th>\n",
              "      <td>ham</td>\n",
              "      <td>U dun say so early hor... U c already then say...</td>\n",
              "    </tr>\n",
              "    <tr>\n",
              "      <th>4</th>\n",
              "      <td>ham</td>\n",
              "      <td>Nah I don't think he goes to usf, he lives aro...</td>\n",
              "    </tr>\n",
              "    <tr>\n",
              "      <th>...</th>\n",
              "      <td>...</td>\n",
              "      <td>...</td>\n",
              "    </tr>\n",
              "    <tr>\n",
              "      <th>5567</th>\n",
              "      <td>spam</td>\n",
              "      <td>This is the 2nd time we have tried 2 contact u...</td>\n",
              "    </tr>\n",
              "    <tr>\n",
              "      <th>5568</th>\n",
              "      <td>ham</td>\n",
              "      <td>Will ü b going to esplanade fr home?</td>\n",
              "    </tr>\n",
              "    <tr>\n",
              "      <th>5569</th>\n",
              "      <td>ham</td>\n",
              "      <td>Pity, * was in mood for that. So...any other s...</td>\n",
              "    </tr>\n",
              "    <tr>\n",
              "      <th>5570</th>\n",
              "      <td>ham</td>\n",
              "      <td>The guy did some bitching but I acted like i'd...</td>\n",
              "    </tr>\n",
              "    <tr>\n",
              "      <th>5571</th>\n",
              "      <td>ham</td>\n",
              "      <td>Rofl. Its true to its name</td>\n",
              "    </tr>\n",
              "  </tbody>\n",
              "</table>\n",
              "<p>5572 rows × 2 columns</p>\n",
              "</div>"
            ],
            "text/plain": [
              "     Label                                               Text\n",
              "0      ham  Go until jurong point, crazy.. Available only ...\n",
              "1      ham                      Ok lar... Joking wif u oni...\n",
              "2     spam  Free entry in 2 a wkly comp to win FA Cup fina...\n",
              "3      ham  U dun say so early hor... U c already then say...\n",
              "4      ham  Nah I don't think he goes to usf, he lives aro...\n",
              "...    ...                                                ...\n",
              "5567  spam  This is the 2nd time we have tried 2 contact u...\n",
              "5568   ham               Will ü b going to esplanade fr home?\n",
              "5569   ham  Pity, * was in mood for that. So...any other s...\n",
              "5570   ham  The guy did some bitching but I acted like i'd...\n",
              "5571   ham                         Rofl. Its true to its name\n",
              "\n",
              "[5572 rows x 2 columns]"
            ]
          },
          "execution_count": 23,
          "metadata": {},
          "output_type": "execute_result"
        }
      ],
      "source": [
        "#reading and storing the data as a csv file\n",
        "spam_file = pd.read_csv(r\"C:\\Users\\User\\Downloads\\smsspamcollection\\SMSSpamCollection\", names = ['Label', 'Text'], sep = '\\t')\n",
        "spam_file"
      ]
    },
    {
      "cell_type": "code",
      "execution_count": 24,
      "id": "3343f782",
      "metadata": {
        "id": "3343f782"
      },
      "outputs": [
        {
          "data": {
            "text/plain": [
              "0    4825\n",
              "1     747\n",
              "Name: Label, dtype: int64"
            ]
          },
          "execution_count": 24,
          "metadata": {},
          "output_type": "execute_result"
        }
      ],
      "source": [
        "# converting ham to 0 and spam to 1's in the label columns.\n",
        "# Note that we can also do this manually\n",
        "encode = LabelEncoder()\n",
        "spam_file['Label'] = encode.fit_transform(spam_file['Label'])\n",
        "spam_file['Label'].value_counts()"
      ]
    },
    {
      "cell_type": "code",
      "execution_count": 25,
      "id": "7155ce18",
      "metadata": {
        "id": "7155ce18"
      },
      "outputs": [],
      "source": [
        "# Showing the distribution of the dataset\n",
        "ones, zeroes = spam_file['Label'].value_counts()\n",
        "# make EDA of ham/spam"
      ]
    },
    {
      "cell_type": "code",
      "execution_count": 26,
      "id": "fb251777",
      "metadata": {
        "id": "fb251777"
      },
      "outputs": [],
      "source": [
        "lab = pd.DataFrame(spam_file[\"Label\"])\n",
        "inptxt = pd.DataFrame(spam_file[\"Text\"])"
      ]
    },
    {
      "cell_type": "code",
      "execution_count": 27,
      "id": "76af3f2e",
      "metadata": {
        "id": "76af3f2e"
      },
      "outputs": [],
      "source": [
        "# Dividing the dataset into train and Test+Validation sets and further breaking that into validation and test sets\n",
        "X_train, X_valtest, y_train, y_valtest = train_test_split(\n",
        "    inptxt, lab, test_size=0.30)\n",
        "X_test, X_val, y_test, y_val = train_test_split(\n",
        "    X_valtest, y_valtest, test_size=0.5)\n",
        "train_set = pd.concat([y_train, X_train], axis=1)\n",
        "test_set = pd.concat([y_test,X_test],axis=1)\n",
        "validation_set =pd.concat([y_val,X_val],axis=1)"
      ]
    },
    {
      "cell_type": "code",
      "execution_count": 28,
      "id": "kvKI3iPPsqrZ",
      "metadata": {
        "colab": {
          "base_uri": "https://localhost:8080/",
          "height": 423
        },
        "id": "kvKI3iPPsqrZ",
        "outputId": "3a2401e0-1af7-4524-81d3-7ae942873b52"
      },
      "outputs": [
        {
          "data": {
            "text/html": [
              "<div>\n",
              "<style scoped>\n",
              "    .dataframe tbody tr th:only-of-type {\n",
              "        vertical-align: middle;\n",
              "    }\n",
              "\n",
              "    .dataframe tbody tr th {\n",
              "        vertical-align: top;\n",
              "    }\n",
              "\n",
              "    .dataframe thead th {\n",
              "        text-align: right;\n",
              "    }\n",
              "</style>\n",
              "<table border=\"1\" class=\"dataframe\">\n",
              "  <thead>\n",
              "    <tr style=\"text-align: right;\">\n",
              "      <th></th>\n",
              "      <th>Label</th>\n",
              "      <th>Text</th>\n",
              "    </tr>\n",
              "  </thead>\n",
              "  <tbody>\n",
              "    <tr>\n",
              "      <th>4959</th>\n",
              "      <td>0</td>\n",
              "      <td>Why didn't u call on your lunch?</td>\n",
              "    </tr>\n",
              "    <tr>\n",
              "      <th>3984</th>\n",
              "      <td>0</td>\n",
              "      <td>Nationwide auto centre (or something like that...</td>\n",
              "    </tr>\n",
              "    <tr>\n",
              "      <th>1643</th>\n",
              "      <td>0</td>\n",
              "      <td>Sleeping nt feeling well</td>\n",
              "    </tr>\n",
              "    <tr>\n",
              "      <th>4277</th>\n",
              "      <td>0</td>\n",
              "      <td>Can you please send me my aunty's number</td>\n",
              "    </tr>\n",
              "    <tr>\n",
              "      <th>3055</th>\n",
              "      <td>0</td>\n",
              "      <td>What happened to our yo date?</td>\n",
              "    </tr>\n",
              "    <tr>\n",
              "      <th>...</th>\n",
              "      <td>...</td>\n",
              "      <td>...</td>\n",
              "    </tr>\n",
              "    <tr>\n",
              "      <th>2762</th>\n",
              "      <td>0</td>\n",
              "      <td>I am not sure about night menu. . . I know onl...</td>\n",
              "    </tr>\n",
              "    <tr>\n",
              "      <th>4658</th>\n",
              "      <td>1</td>\n",
              "      <td>PRIVATE! Your 2003 Account Statement for shows...</td>\n",
              "    </tr>\n",
              "    <tr>\n",
              "      <th>1231</th>\n",
              "      <td>0</td>\n",
              "      <td>I want to send something that can sell fast.  ...</td>\n",
              "    </tr>\n",
              "    <tr>\n",
              "      <th>2661</th>\n",
              "      <td>0</td>\n",
              "      <td>Want to finally have lunch today?</td>\n",
              "    </tr>\n",
              "    <tr>\n",
              "      <th>2723</th>\n",
              "      <td>0</td>\n",
              "      <td>It's justbeen overa week since we broke up and...</td>\n",
              "    </tr>\n",
              "  </tbody>\n",
              "</table>\n",
              "<p>3900 rows × 2 columns</p>\n",
              "</div>"
            ],
            "text/plain": [
              "      Label                                               Text\n",
              "4959      0                   Why didn't u call on your lunch?\n",
              "3984      0  Nationwide auto centre (or something like that...\n",
              "1643      0                           Sleeping nt feeling well\n",
              "4277      0           Can you please send me my aunty's number\n",
              "3055      0                      What happened to our yo date?\n",
              "...     ...                                                ...\n",
              "2762      0  I am not sure about night menu. . . I know onl...\n",
              "4658      1  PRIVATE! Your 2003 Account Statement for shows...\n",
              "1231      0  I want to send something that can sell fast.  ...\n",
              "2661      0                  Want to finally have lunch today?\n",
              "2723      0  It's justbeen overa week since we broke up and...\n",
              "\n",
              "[3900 rows x 2 columns]"
            ]
          },
          "execution_count": 28,
          "metadata": {},
          "output_type": "execute_result"
        }
      ],
      "source": [
        "train_set"
      ]
    },
    {
      "cell_type": "code",
      "execution_count": 29,
      "id": "iK2hTtT_tglH",
      "metadata": {
        "colab": {
          "base_uri": "https://localhost:8080/",
          "height": 423
        },
        "id": "iK2hTtT_tglH",
        "outputId": "100cdee6-2576-4560-def5-23e1a64c4fa4"
      },
      "outputs": [
        {
          "data": {
            "text/html": [
              "<div>\n",
              "<style scoped>\n",
              "    .dataframe tbody tr th:only-of-type {\n",
              "        vertical-align: middle;\n",
              "    }\n",
              "\n",
              "    .dataframe tbody tr th {\n",
              "        vertical-align: top;\n",
              "    }\n",
              "\n",
              "    .dataframe thead th {\n",
              "        text-align: right;\n",
              "    }\n",
              "</style>\n",
              "<table border=\"1\" class=\"dataframe\">\n",
              "  <thead>\n",
              "    <tr style=\"text-align: right;\">\n",
              "      <th></th>\n",
              "      <th>Label</th>\n",
              "      <th>Text</th>\n",
              "    </tr>\n",
              "  </thead>\n",
              "  <tbody>\n",
              "    <tr>\n",
              "      <th>4289</th>\n",
              "      <td>0</td>\n",
              "      <td>Hey mr whats the name of that bill brison book...</td>\n",
              "    </tr>\n",
              "    <tr>\n",
              "      <th>1120</th>\n",
              "      <td>1</td>\n",
              "      <td>Bored of speed dating? Try SPEEDCHAT, txt SPEE...</td>\n",
              "    </tr>\n",
              "    <tr>\n",
              "      <th>1489</th>\n",
              "      <td>0</td>\n",
              "      <td>Tell them no need to investigate about me anyw...</td>\n",
              "    </tr>\n",
              "    <tr>\n",
              "      <th>1878</th>\n",
              "      <td>0</td>\n",
              "      <td>This pen thing is beyond a joke. Wont a Biro d...</td>\n",
              "    </tr>\n",
              "    <tr>\n",
              "      <th>3021</th>\n",
              "      <td>0</td>\n",
              "      <td>I thank you so much for all you do with selfle...</td>\n",
              "    </tr>\n",
              "    <tr>\n",
              "      <th>...</th>\n",
              "      <td>...</td>\n",
              "      <td>...</td>\n",
              "    </tr>\n",
              "    <tr>\n",
              "      <th>5168</th>\n",
              "      <td>0</td>\n",
              "      <td>I‘ve got some salt, you can rub it in my open ...</td>\n",
              "    </tr>\n",
              "    <tr>\n",
              "      <th>710</th>\n",
              "      <td>1</td>\n",
              "      <td>4mths half price Orange line rental &amp; latest c...</td>\n",
              "    </tr>\n",
              "    <tr>\n",
              "      <th>1323</th>\n",
              "      <td>0</td>\n",
              "      <td>Oh just getting even with u.... u?</td>\n",
              "    </tr>\n",
              "    <tr>\n",
              "      <th>888</th>\n",
              "      <td>0</td>\n",
              "      <td>Y dun cut too short leh. U dun like ah? She fa...</td>\n",
              "    </tr>\n",
              "    <tr>\n",
              "      <th>3590</th>\n",
              "      <td>0</td>\n",
              "      <td>I've sent my wife your text. After we buy them...</td>\n",
              "    </tr>\n",
              "  </tbody>\n",
              "</table>\n",
              "<p>836 rows × 2 columns</p>\n",
              "</div>"
            ],
            "text/plain": [
              "      Label                                               Text\n",
              "4289      0  Hey mr whats the name of that bill brison book...\n",
              "1120      1  Bored of speed dating? Try SPEEDCHAT, txt SPEE...\n",
              "1489      0  Tell them no need to investigate about me anyw...\n",
              "1878      0  This pen thing is beyond a joke. Wont a Biro d...\n",
              "3021      0  I thank you so much for all you do with selfle...\n",
              "...     ...                                                ...\n",
              "5168      0  I‘ve got some salt, you can rub it in my open ...\n",
              "710       1  4mths half price Orange line rental & latest c...\n",
              "1323      0                 Oh just getting even with u.... u?\n",
              "888       0  Y dun cut too short leh. U dun like ah? She fa...\n",
              "3590      0  I've sent my wife your text. After we buy them...\n",
              "\n",
              "[836 rows x 2 columns]"
            ]
          },
          "execution_count": 29,
          "metadata": {},
          "output_type": "execute_result"
        }
      ],
      "source": [
        "test_set"
      ]
    },
    {
      "cell_type": "code",
      "execution_count": 30,
      "id": "o1Jy2OSSth4N",
      "metadata": {
        "colab": {
          "base_uri": "https://localhost:8080/",
          "height": 423
        },
        "id": "o1Jy2OSSth4N",
        "outputId": "90a7ad45-9274-4033-805b-8daefcf59e95"
      },
      "outputs": [
        {
          "data": {
            "text/html": [
              "<div>\n",
              "<style scoped>\n",
              "    .dataframe tbody tr th:only-of-type {\n",
              "        vertical-align: middle;\n",
              "    }\n",
              "\n",
              "    .dataframe tbody tr th {\n",
              "        vertical-align: top;\n",
              "    }\n",
              "\n",
              "    .dataframe thead th {\n",
              "        text-align: right;\n",
              "    }\n",
              "</style>\n",
              "<table border=\"1\" class=\"dataframe\">\n",
              "  <thead>\n",
              "    <tr style=\"text-align: right;\">\n",
              "      <th></th>\n",
              "      <th>Label</th>\n",
              "      <th>Text</th>\n",
              "    </tr>\n",
              "  </thead>\n",
              "  <tbody>\n",
              "    <tr>\n",
              "      <th>2048</th>\n",
              "      <td>0</td>\n",
              "      <td>No de. But call me after some time. Ill tell y...</td>\n",
              "    </tr>\n",
              "    <tr>\n",
              "      <th>656</th>\n",
              "      <td>0</td>\n",
              "      <td>Tell them the drug dealer's getting impatient</td>\n",
              "    </tr>\n",
              "    <tr>\n",
              "      <th>1778</th>\n",
              "      <td>1</td>\n",
              "      <td>Buy Space Invaders 4 a chance 2 win orig Arcad...</td>\n",
              "    </tr>\n",
              "    <tr>\n",
              "      <th>2772</th>\n",
              "      <td>0</td>\n",
              "      <td>Then ur sis how?</td>\n",
              "    </tr>\n",
              "    <tr>\n",
              "      <th>2945</th>\n",
              "      <td>1</td>\n",
              "      <td>We currently have a message awaiting your coll...</td>\n",
              "    </tr>\n",
              "    <tr>\n",
              "      <th>...</th>\n",
              "      <td>...</td>\n",
              "      <td>...</td>\n",
              "    </tr>\n",
              "    <tr>\n",
              "      <th>3130</th>\n",
              "      <td>0</td>\n",
              "      <td>Haha better late than ever, any way I could sw...</td>\n",
              "    </tr>\n",
              "    <tr>\n",
              "      <th>3231</th>\n",
              "      <td>0</td>\n",
              "      <td>I feel like a dick because I keep sleeping thr...</td>\n",
              "    </tr>\n",
              "    <tr>\n",
              "      <th>192</th>\n",
              "      <td>0</td>\n",
              "      <td>I'm sorry. I've joined the league of people th...</td>\n",
              "    </tr>\n",
              "    <tr>\n",
              "      <th>5384</th>\n",
              "      <td>0</td>\n",
              "      <td>How are you babes. Hope your doing ok. I had a...</td>\n",
              "    </tr>\n",
              "    <tr>\n",
              "      <th>5454</th>\n",
              "      <td>0</td>\n",
              "      <td>Im just wondering what your doing right now?</td>\n",
              "    </tr>\n",
              "  </tbody>\n",
              "</table>\n",
              "<p>836 rows × 2 columns</p>\n",
              "</div>"
            ],
            "text/plain": [
              "      Label                                               Text\n",
              "2048      0  No de. But call me after some time. Ill tell y...\n",
              "656       0      Tell them the drug dealer's getting impatient\n",
              "1778      1  Buy Space Invaders 4 a chance 2 win orig Arcad...\n",
              "2772      0                                   Then ur sis how?\n",
              "2945      1  We currently have a message awaiting your coll...\n",
              "...     ...                                                ...\n",
              "3130      0  Haha better late than ever, any way I could sw...\n",
              "3231      0  I feel like a dick because I keep sleeping thr...\n",
              "192       0  I'm sorry. I've joined the league of people th...\n",
              "5384      0  How are you babes. Hope your doing ok. I had a...\n",
              "5454      0       Im just wondering what your doing right now?\n",
              "\n",
              "[836 rows x 2 columns]"
            ]
          },
          "execution_count": 30,
          "metadata": {},
          "output_type": "execute_result"
        }
      ],
      "source": [
        "validation_set"
      ]
    },
    {
      "cell_type": "code",
      "execution_count": 31,
      "id": "dd07cdd1",
      "metadata": {
        "id": "dd07cdd1"
      },
      "outputs": [],
      "source": [
        "#storing and saving the datasets as 3 separate csv files. \n",
        "train_set.to_csv(\"train.csv\")\n",
        "test_set.to_csv(\"test.csv\")\n",
        "validation_set.to_csv(\"validation.csv\")"
      ]
    },
    {
      "cell_type": "code",
      "execution_count": 32,
      "id": "23adbffe",
      "metadata": {},
      "outputs": [
        {
          "data": {
            "text/html": [
              "<div>\n",
              "<style scoped>\n",
              "    .dataframe tbody tr th:only-of-type {\n",
              "        vertical-align: middle;\n",
              "    }\n",
              "\n",
              "    .dataframe tbody tr th {\n",
              "        vertical-align: top;\n",
              "    }\n",
              "\n",
              "    .dataframe thead tr th {\n",
              "        text-align: left;\n",
              "    }\n",
              "\n",
              "    .dataframe thead tr:last-of-type th {\n",
              "        text-align: right;\n",
              "    }\n",
              "</style>\n",
              "<table border=\"1\" class=\"dataframe\">\n",
              "  <thead>\n",
              "    <tr>\n",
              "      <th></th>\n",
              "      <th colspan=\"4\" halign=\"left\">Text</th>\n",
              "    </tr>\n",
              "    <tr>\n",
              "      <th></th>\n",
              "      <th>count</th>\n",
              "      <th>unique</th>\n",
              "      <th>top</th>\n",
              "      <th>freq</th>\n",
              "    </tr>\n",
              "    <tr>\n",
              "      <th>Label</th>\n",
              "      <th></th>\n",
              "      <th></th>\n",
              "      <th></th>\n",
              "      <th></th>\n",
              "    </tr>\n",
              "  </thead>\n",
              "  <tbody>\n",
              "    <tr>\n",
              "      <th>0</th>\n",
              "      <td>3389</td>\n",
              "      <td>3221</td>\n",
              "      <td>Sorry, I'll call later</td>\n",
              "      <td>20</td>\n",
              "    </tr>\n",
              "    <tr>\n",
              "      <th>1</th>\n",
              "      <td>511</td>\n",
              "      <td>460</td>\n",
              "      <td>HMV BONUS SPECIAL 500 pounds of genuine HMV vo...</td>\n",
              "      <td>3</td>\n",
              "    </tr>\n",
              "  </tbody>\n",
              "</table>\n",
              "</div>"
            ],
            "text/plain": [
              "       Text                                                               \n",
              "      count unique                                                top freq\n",
              "Label                                                                     \n",
              "0      3389   3221                             Sorry, I'll call later   20\n",
              "1       511    460  HMV BONUS SPECIAL 500 pounds of genuine HMV vo...    3"
            ]
          },
          "execution_count": 32,
          "metadata": {},
          "output_type": "execute_result"
        }
      ],
      "source": [
        "train_set.groupby('Label').describe()"
      ]
    },
    {
      "cell_type": "code",
      "execution_count": 33,
      "id": "dbd12cdf",
      "metadata": {},
      "outputs": [
        {
          "data": {
            "text/html": [
              "<div>\n",
              "<style scoped>\n",
              "    .dataframe tbody tr th:only-of-type {\n",
              "        vertical-align: middle;\n",
              "    }\n",
              "\n",
              "    .dataframe tbody tr th {\n",
              "        vertical-align: top;\n",
              "    }\n",
              "\n",
              "    .dataframe thead tr th {\n",
              "        text-align: left;\n",
              "    }\n",
              "\n",
              "    .dataframe thead tr:last-of-type th {\n",
              "        text-align: right;\n",
              "    }\n",
              "</style>\n",
              "<table border=\"1\" class=\"dataframe\">\n",
              "  <thead>\n",
              "    <tr>\n",
              "      <th></th>\n",
              "      <th colspan=\"4\" halign=\"left\">Text</th>\n",
              "    </tr>\n",
              "    <tr>\n",
              "      <th></th>\n",
              "      <th>count</th>\n",
              "      <th>unique</th>\n",
              "      <th>top</th>\n",
              "      <th>freq</th>\n",
              "    </tr>\n",
              "    <tr>\n",
              "      <th>Label</th>\n",
              "      <th></th>\n",
              "      <th></th>\n",
              "      <th></th>\n",
              "      <th></th>\n",
              "    </tr>\n",
              "  </thead>\n",
              "  <tbody>\n",
              "    <tr>\n",
              "      <th>0</th>\n",
              "      <td>715</td>\n",
              "      <td>701</td>\n",
              "      <td>Sorry, I'll call later</td>\n",
              "      <td>4</td>\n",
              "    </tr>\n",
              "    <tr>\n",
              "      <th>1</th>\n",
              "      <td>121</td>\n",
              "      <td>119</td>\n",
              "      <td>Bored housewives! Chat n date now! 0871750.77....</td>\n",
              "      <td>2</td>\n",
              "    </tr>\n",
              "  </tbody>\n",
              "</table>\n",
              "</div>"
            ],
            "text/plain": [
              "       Text                                                               \n",
              "      count unique                                                top freq\n",
              "Label                                                                     \n",
              "0       715    701                             Sorry, I'll call later    4\n",
              "1       121    119  Bored housewives! Chat n date now! 0871750.77....    2"
            ]
          },
          "execution_count": 33,
          "metadata": {},
          "output_type": "execute_result"
        }
      ],
      "source": [
        "test_set.groupby('Label').describe()"
      ]
    },
    {
      "cell_type": "code",
      "execution_count": 34,
      "id": "5939f083",
      "metadata": {},
      "outputs": [
        {
          "data": {
            "text/html": [
              "<div>\n",
              "<style scoped>\n",
              "    .dataframe tbody tr th:only-of-type {\n",
              "        vertical-align: middle;\n",
              "    }\n",
              "\n",
              "    .dataframe tbody tr th {\n",
              "        vertical-align: top;\n",
              "    }\n",
              "\n",
              "    .dataframe thead tr th {\n",
              "        text-align: left;\n",
              "    }\n",
              "\n",
              "    .dataframe thead tr:last-of-type th {\n",
              "        text-align: right;\n",
              "    }\n",
              "</style>\n",
              "<table border=\"1\" class=\"dataframe\">\n",
              "  <thead>\n",
              "    <tr>\n",
              "      <th></th>\n",
              "      <th colspan=\"4\" halign=\"left\">Text</th>\n",
              "    </tr>\n",
              "    <tr>\n",
              "      <th></th>\n",
              "      <th>count</th>\n",
              "      <th>unique</th>\n",
              "      <th>top</th>\n",
              "      <th>freq</th>\n",
              "    </tr>\n",
              "    <tr>\n",
              "      <th>Label</th>\n",
              "      <th></th>\n",
              "      <th></th>\n",
              "      <th></th>\n",
              "      <th></th>\n",
              "    </tr>\n",
              "  </thead>\n",
              "  <tbody>\n",
              "    <tr>\n",
              "      <th>0</th>\n",
              "      <td>721</td>\n",
              "      <td>707</td>\n",
              "      <td>Sorry, I'll call later</td>\n",
              "      <td>6</td>\n",
              "    </tr>\n",
              "    <tr>\n",
              "      <th>1</th>\n",
              "      <td>115</td>\n",
              "      <td>111</td>\n",
              "      <td>Buy Space Invaders 4 a chance 2 win orig Arcad...</td>\n",
              "      <td>2</td>\n",
              "    </tr>\n",
              "  </tbody>\n",
              "</table>\n",
              "</div>"
            ],
            "text/plain": [
              "       Text                                                               \n",
              "      count unique                                                top freq\n",
              "Label                                                                     \n",
              "0       721    707                             Sorry, I'll call later    6\n",
              "1       115    111  Buy Space Invaders 4 a chance 2 win orig Arcad...    2"
            ]
          },
          "execution_count": 34,
          "metadata": {},
          "output_type": "execute_result"
        }
      ],
      "source": [
        "validation_set.groupby('Label').describe()"
      ]
    }
  ],
  "metadata": {
    "colab": {
      "provenance": []
    },
    "kernelspec": {
      "display_name": "srijitenv",
      "language": "python",
      "name": "python3"
    },
    "language_info": {
      "codemirror_mode": {
        "name": "ipython",
        "version": 3
      },
      "file_extension": ".py",
      "mimetype": "text/x-python",
      "name": "python",
      "nbconvert_exporter": "python",
      "pygments_lexer": "ipython3",
      "version": "3.9.0"
    },
    "vscode": {
      "interpreter": {
        "hash": "ba13dcf77079cf03dc982878e24b7c471e557bcfc997af57785db4cbcb1a1334"
      }
    }
  },
  "nbformat": 4,
  "nbformat_minor": 5
}
